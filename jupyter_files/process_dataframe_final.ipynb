{
 "cells": [
  {
   "cell_type": "code",
   "execution_count": null,
   "metadata": {},
   "outputs": [],
   "source": [
    "import pandas\n",
    "import re\n",
    "df = pandas.read_csv(\"/content/pipeline_index_47_50_paraphased_final_dataframe.csv\")\n",
    "import re\n",
    "count = 0\n",
    "for index, row in df.iterrows():\n",
    "    if \"thủ tục này\" in row['Question']:\n",
    "        result = re.search(r\"Tên thủ tục:\\r\\n(.*?)\\r\\nCấp thực hiện\", row['Context'], re.DOTALL)\n",
    "\n",
    "        if result:\n",
    "            extracted_string = result.group(1).strip()\n",
    "            \n",
    "            row['Question'] = row['Question'].replace(\"thủ tục này\", extracted_string)\n",
    "\n",
    "        count += 1\n",
    "\n",
    "print(f\"Total matches found: {count}\")\n"
   ]
  },
  {
   "cell_type": "code",
   "execution_count": null,
   "metadata": {},
   "outputs": [],
   "source": [
    "def clean_data(line):\n",
    "  line = line.replace(\"*\",\"\")\n",
    "  line = line.replace(\"-\",\"\")\n",
    "  return line\n",
    "\n",
    "df['Answer'] = df['Answer'].apply(clean_data)\n",
    "df['Question'] = df['Question'].apply(clean_data)"
   ]
  },
  {
   "cell_type": "code",
   "execution_count": null,
   "metadata": {},
   "outputs": [],
   "source": [
    "import re\n",
    "\n",
    "count = 0\n",
    "for index, row in df.iterrows():\n",
    "    # Search for the pattern of a number followed by a period, then any characters until a question mark\n",
    "    result = re.search(r'\\d+\\..+?\\?', row['Answer'], re.DOTALL)\n",
    "    \n",
    "    if result:\n",
    "        # Define the pattern again for substitution\n",
    "        pattern = r'\\d+\\..+?\\?'\n",
    "        \n",
    "        # Remove the matched pattern from the answer\n",
    "        cleaned_answer = re.sub(pattern, '', row['Answer']).strip()\n",
    "        \n",
    "        # Further clean up any extra dashes and spaces\n",
    "        cleaned_answer = cleaned_answer.replace('-', '').strip()\n",
    "        \n",
    "        # Update the DataFrame with the cleaned answer\n",
    "        df.at[index, 'Answer'] = cleaned_answer\n",
    "        \n",
    "        # Optional: print each cleaned answer\n",
    "        print(cleaned_answer)\n",
    "        \n",
    "        count += 1\n",
    "\n",
    "print(f\"Total matches found and cleaned: {count}\")\n"
   ]
  },
  {
   "cell_type": "code",
   "execution_count": null,
   "metadata": {},
   "outputs": [],
   "source": [
    "pd.set_option('display.max_colwidth', None)\n",
    "df[['Question','Answer']][20:50]"
   ]
  },
  {
   "cell_type": "code",
   "execution_count": null,
   "metadata": {},
   "outputs": [],
   "source": [
    "import pandas as pd\n",
    "df.to_csv(\"50_100_parapharsed_df.csv\", index = False)"
   ]
  }
 ],
 "metadata": {
  "language_info": {
   "name": "python"
  }
 },
 "nbformat": 4,
 "nbformat_minor": 2
}
