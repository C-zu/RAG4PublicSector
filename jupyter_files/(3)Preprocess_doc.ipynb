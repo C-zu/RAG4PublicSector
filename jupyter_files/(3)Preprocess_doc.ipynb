{
  "nbformat": 4,
  "nbformat_minor": 0,
  "metadata": {
    "colab": {
      "provenance": []
    },
    "kernelspec": {
      "name": "python3",
      "display_name": "Python 3"
    },
    "language_info": {
      "name": "python"
    }
  },
  "cells": [
    {
      "cell_type": "code",
      "source": [
        "import re\n",
        "import pandas as pd\n",
        "import os"
      ],
      "metadata": {
        "id": "QuXUGMrihqF3"
      },
      "execution_count": null,
      "outputs": []
    },
    {
      "cell_type": "code",
      "source": [
        "from google.colab import drive\n",
        "drive.mount('/content/drive')"
      ],
      "metadata": {
        "colab": {
          "base_uri": "https://localhost:8080/"
        },
        "id": "d8AZC2G21g2M",
        "outputId": "a40c8565-705e-4bca-cf70-af0b70a01662"
      },
      "execution_count": null,
      "outputs": [
        {
          "output_type": "stream",
          "name": "stdout",
          "text": [
            "Mounted at /content/drive\n"
          ]
        }
      ]
    },
    {
      "cell_type": "code",
      "execution_count": null,
      "metadata": {
        "id": "an01G_hIgZ55"
      },
      "outputs": [],
      "source": [
        "# Split the raw text into lines\n",
        "def preprocess_table(text):\n",
        "  lines = text.strip().split('\\n')\n",
        "\n",
        "  # Initialize a list to store the processed lines\n",
        "  processed_lines = []\n",
        "  related_docs = \"\"\n",
        "  # Loop through each line in the raw text\n",
        "  for line in lines[2:]:  # Skip the header lines\n",
        "      # Split the line into columns\n",
        "      columns = line.split('|')\n",
        "      if len(columns) > 3:\n",
        "          document_name = columns[1].strip()\n",
        "          quantity = columns[3].strip()\n",
        "          related_doc = columns[2].strip()\n",
        "          # Combine the document name and quantity\n",
        "          processed_line = f\"{quantity} {document_name} ({related_doc})\"\n",
        "          # Add the processed line to the list\n",
        "          processed_lines.append(processed_line)\n",
        "\n",
        "  # Join the processed lines into a single string\n",
        "  result = '\\n'.join(processed_lines)\n",
        "\n",
        "  return result"
      ]
    },
    {
      "cell_type": "code",
      "source": [
        "def preprocess_doc(text):\n",
        "    table_header_pattern = r\"\\|Tên giấy tờ\\|Mẫu đơn, tờ khai\\|Số lượng\\|((?:[^|\\n]*\\|?)+)\"\n",
        "\n",
        "    # Find the table header and extract all subsequent lines until a non-table line is encountered\n",
        "    processed_text = text\n",
        "    match = re.search(table_header_pattern, processed_text)\n",
        "    while match:\n",
        "        table_header = match.group(1).strip()\n",
        "        table_content = \"|Tên giấy tờ|Mẫu đơn, tờ khai|Số lượng|\\n\"\n",
        "        remaining_text = processed_text[match.end():].strip()\n",
        "        lines = remaining_text.splitlines()\n",
        "\n",
        "        for line in lines:\n",
        "            if line.startswith(\"|\"):\n",
        "                table_content += line.strip() + \"\\n\"\n",
        "            else:\n",
        "                table_content = table_content[:-1]\n",
        "                break\n",
        "        new_table_content = preprocess_table(table_content)\n",
        "        table_start = processed_text.find(table_content)  # Find the start position of the matched table\n",
        "        processed_text = processed_text[:table_start] + new_table_content + processed_text[table_start + len(table_content):]\n",
        "        match = re.search(table_header_pattern, processed_text)\n",
        "    return processed_text\n"
      ],
      "metadata": {
        "id": "uFBq9CCghy0r"
      },
      "execution_count": null,
      "outputs": []
    },
    {
      "cell_type": "code",
      "source": [
        "def process_files_in_folder(folder_path):\n",
        "    # Iterate over all files in the folder\n",
        "    for filename in os.listdir(folder_path):\n",
        "        file_path = os.path.join(folder_path, filename)\n",
        "        if os.path.isfile(file_path) and filename.endswith('.txt'):  # Ensure it's a file and ends with .txt\n",
        "            # Read the current file content\n",
        "            with open(file_path, 'r', encoding='utf-8') as file:\n",
        "                file_content = file.read()\n",
        "\n",
        "            # Apply the function ggez to modify the text\n",
        "            modified_content = preprocess_doc(file_content)\n",
        "\n",
        "            # Save the modified content back to the file\n",
        "            with open(file_path, 'w', encoding='utf-8') as file:\n",
        "                file.write(modified_content)"
      ],
      "metadata": {
        "id": "AMQVZ72TmQvc"
      },
      "execution_count": null,
      "outputs": []
    },
    {
      "cell_type": "code",
      "source": [
        "process_files_in_folder(\"./drive/MyDrive/txt_file_old\")"
      ],
      "metadata": {
        "id": "dzYuXk4Y2X1O",
        "colab": {
          "base_uri": "https://localhost:8080/",
          "height": 298
        },
        "outputId": "7c5cd378-f8a4-42f3-8587-750c7a2f09a9"
      },
      "execution_count": null,
      "outputs": [
        {
          "output_type": "error",
          "ename": "KeyboardInterrupt",
          "evalue": "",
          "traceback": [
            "\u001b[0;31m---------------------------------------------------------------------------\u001b[0m",
            "\u001b[0;31mKeyboardInterrupt\u001b[0m                         Traceback (most recent call last)",
            "\u001b[0;32m<ipython-input-6-ed509d666c74>\u001b[0m in \u001b[0;36m<cell line: 1>\u001b[0;34m()\u001b[0m\n\u001b[0;32m----> 1\u001b[0;31m \u001b[0mprocess_files_in_folder\u001b[0m\u001b[0;34m(\u001b[0m\u001b[0;34m\"./drive/MyDrive/txt_file_old\"\u001b[0m\u001b[0;34m)\u001b[0m\u001b[0;34m\u001b[0m\u001b[0;34m\u001b[0m\u001b[0m\n\u001b[0m",
            "\u001b[0;32m<ipython-input-5-08ff2d935247>\u001b[0m in \u001b[0;36mprocess_files_in_folder\u001b[0;34m(folder_path)\u001b[0m\n\u001b[1;32m      6\u001b[0m             \u001b[0;31m# Read the current file content\u001b[0m\u001b[0;34m\u001b[0m\u001b[0;34m\u001b[0m\u001b[0m\n\u001b[1;32m      7\u001b[0m             \u001b[0;32mwith\u001b[0m \u001b[0mopen\u001b[0m\u001b[0;34m(\u001b[0m\u001b[0mfile_path\u001b[0m\u001b[0;34m,\u001b[0m \u001b[0;34m'r'\u001b[0m\u001b[0;34m,\u001b[0m \u001b[0mencoding\u001b[0m\u001b[0;34m=\u001b[0m\u001b[0;34m'utf-8'\u001b[0m\u001b[0;34m)\u001b[0m \u001b[0;32mas\u001b[0m \u001b[0mfile\u001b[0m\u001b[0;34m:\u001b[0m\u001b[0;34m\u001b[0m\u001b[0;34m\u001b[0m\u001b[0m\n\u001b[0;32m----> 8\u001b[0;31m                 \u001b[0mfile_content\u001b[0m \u001b[0;34m=\u001b[0m \u001b[0mfile\u001b[0m\u001b[0;34m.\u001b[0m\u001b[0mread\u001b[0m\u001b[0;34m(\u001b[0m\u001b[0;34m)\u001b[0m\u001b[0;34m\u001b[0m\u001b[0;34m\u001b[0m\u001b[0m\n\u001b[0m\u001b[1;32m      9\u001b[0m \u001b[0;34m\u001b[0m\u001b[0m\n\u001b[1;32m     10\u001b[0m             \u001b[0;31m# Apply the function ggez to modify the text\u001b[0m\u001b[0;34m\u001b[0m\u001b[0;34m\u001b[0m\u001b[0m\n",
            "\u001b[0;32m/usr/lib/python3.10/codecs.py\u001b[0m in \u001b[0;36mdecode\u001b[0;34m(self, input, final)\u001b[0m\n\u001b[1;32m    317\u001b[0m         \u001b[0;32mraise\u001b[0m \u001b[0mNotImplementedError\u001b[0m\u001b[0;34m\u001b[0m\u001b[0;34m\u001b[0m\u001b[0m\n\u001b[1;32m    318\u001b[0m \u001b[0;34m\u001b[0m\u001b[0m\n\u001b[0;32m--> 319\u001b[0;31m     \u001b[0;32mdef\u001b[0m \u001b[0mdecode\u001b[0m\u001b[0;34m(\u001b[0m\u001b[0mself\u001b[0m\u001b[0;34m,\u001b[0m \u001b[0minput\u001b[0m\u001b[0;34m,\u001b[0m \u001b[0mfinal\u001b[0m\u001b[0;34m=\u001b[0m\u001b[0;32mFalse\u001b[0m\u001b[0;34m)\u001b[0m\u001b[0;34m:\u001b[0m\u001b[0;34m\u001b[0m\u001b[0;34m\u001b[0m\u001b[0m\n\u001b[0m\u001b[1;32m    320\u001b[0m         \u001b[0;31m# decode input (taking the buffer into account)\u001b[0m\u001b[0;34m\u001b[0m\u001b[0;34m\u001b[0m\u001b[0m\n\u001b[1;32m    321\u001b[0m         \u001b[0mdata\u001b[0m \u001b[0;34m=\u001b[0m \u001b[0mself\u001b[0m\u001b[0;34m.\u001b[0m\u001b[0mbuffer\u001b[0m \u001b[0;34m+\u001b[0m \u001b[0minput\u001b[0m\u001b[0;34m\u001b[0m\u001b[0;34m\u001b[0m\u001b[0m\n",
            "\u001b[0;31mKeyboardInterrupt\u001b[0m: "
          ]
        }
      ]
    },
    {
      "cell_type": "code",
      "source": [],
      "metadata": {
        "id": "e2TTitF35LfY"
      },
      "execution_count": null,
      "outputs": []
    }
  ]
}