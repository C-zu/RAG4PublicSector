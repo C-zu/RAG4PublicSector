{
 "cells": [
  {
   "cell_type": "markdown",
   "metadata": {},
   "source": [
    "## Dự tính kết quả đạt được:\n",
    "**$xy^2z$** sẽ là số lượng data tối đa có thể đạt được trong pipeline, với:\n",
    "\n",
    "- **$x$** là số context\n",
    "- **$y$** là số lượng các Llm tham gia vào pipeline\n",
    "- **$z$** là số question được tạo ra với mỗi Llm\n",
    "\n",
    "Ví dụ: với **$x = 2790$**, **$y = 7$** và **$z = 7$** sẽ cho ra khoảng **956.000 data** (chưa qua sàn lọc).\n"
   ]
  },
  {
   "cell_type": "code",
   "execution_count": 1,
   "metadata": {},
   "outputs": [],
   "source": [
    "import pandas as pd\n",
    "import ast"
   ]
  },
  {
   "cell_type": "markdown",
   "metadata": {},
   "source": [
    "## Đọc dataframe chứa các context về dịch vụ công"
   ]
  },
  {
   "cell_type": "code",
   "execution_count": 62,
   "metadata": {},
   "outputs": [
    {
     "name": "stdout",
     "output_type": "stream",
     "text": [
      "Size of context_df:  2790\n"
     ]
    }
   ],
   "source": [
    "df = pd.read_parquet('./data/corpus.parquet')\n",
    "print('Size of context_df: ',len(df))"
   ]
  },
  {
   "cell_type": "code",
   "execution_count": 5,
   "metadata": {},
   "outputs": [
    {
     "data": {
      "text/html": [
       "<div>\n",
       "<style scoped>\n",
       "    .dataframe tbody tr th:only-of-type {\n",
       "        vertical-align: middle;\n",
       "    }\n",
       "\n",
       "    .dataframe tbody tr th {\n",
       "        vertical-align: top;\n",
       "    }\n",
       "\n",
       "    .dataframe thead th {\n",
       "        text-align: right;\n",
       "    }\n",
       "</style>\n",
       "<table border=\"1\" class=\"dataframe\">\n",
       "  <thead>\n",
       "    <tr style=\"text-align: right;\">\n",
       "      <th></th>\n",
       "      <th>doc_id</th>\n",
       "      <th>contents</th>\n",
       "      <th>metadata</th>\n",
       "    </tr>\n",
       "  </thead>\n",
       "  <tbody>\n",
       "    <tr>\n",
       "      <th>0</th>\n",
       "      <td>b4597feb-b61e-405d-b270-89b3bba0706f</td>\n",
       "      <td>Chi tiết thủ tục hành chính:\\r\\nMã thủ tục:\\r\\...</td>\n",
       "      <td>{'creation_date': '2024-07-17', 'file_name': '...</td>\n",
       "    </tr>\n",
       "    <tr>\n",
       "      <th>1</th>\n",
       "      <td>62513271-21bc-4659-b84a-afcf4549f8c4</td>\n",
       "      <td>Chi tiết thủ tục hành chính:\\r\\nMã thủ tục:\\r\\...</td>\n",
       "      <td>{'creation_date': '2024-07-17', 'file_name': '...</td>\n",
       "    </tr>\n",
       "    <tr>\n",
       "      <th>2</th>\n",
       "      <td>95e087d4-5774-403d-82ed-89c1623a331f</td>\n",
       "      <td>Chi tiết thủ tục hành chính:\\r\\nMã thủ tục:\\r\\...</td>\n",
       "      <td>{'creation_date': '2024-07-17', 'file_name': '...</td>\n",
       "    </tr>\n",
       "    <tr>\n",
       "      <th>3</th>\n",
       "      <td>61d12ba1-2398-45be-9dcc-928b2ed58068</td>\n",
       "      <td>Chi tiết thủ tục hành chính:\\r\\nMã thủ tục:\\r\\...</td>\n",
       "      <td>{'creation_date': '2024-07-17', 'file_name': '...</td>\n",
       "    </tr>\n",
       "    <tr>\n",
       "      <th>4</th>\n",
       "      <td>b439bce4-2cb8-48fb-957a-95ea40bcf724</td>\n",
       "      <td>Chi tiết thủ tục hành chính:\\r\\nMã thủ tục:\\r\\...</td>\n",
       "      <td>{'creation_date': '2024-07-17', 'file_name': '...</td>\n",
       "    </tr>\n",
       "  </tbody>\n",
       "</table>\n",
       "</div>"
      ],
      "text/plain": [
       "                                 doc_id  \\\n",
       "0  b4597feb-b61e-405d-b270-89b3bba0706f   \n",
       "1  62513271-21bc-4659-b84a-afcf4549f8c4   \n",
       "2  95e087d4-5774-403d-82ed-89c1623a331f   \n",
       "3  61d12ba1-2398-45be-9dcc-928b2ed58068   \n",
       "4  b439bce4-2cb8-48fb-957a-95ea40bcf724   \n",
       "\n",
       "                                            contents  \\\n",
       "0  Chi tiết thủ tục hành chính:\\r\\nMã thủ tục:\\r\\...   \n",
       "1  Chi tiết thủ tục hành chính:\\r\\nMã thủ tục:\\r\\...   \n",
       "2  Chi tiết thủ tục hành chính:\\r\\nMã thủ tục:\\r\\...   \n",
       "3  Chi tiết thủ tục hành chính:\\r\\nMã thủ tục:\\r\\...   \n",
       "4  Chi tiết thủ tục hành chính:\\r\\nMã thủ tục:\\r\\...   \n",
       "\n",
       "                                            metadata  \n",
       "0  {'creation_date': '2024-07-17', 'file_name': '...  \n",
       "1  {'creation_date': '2024-07-17', 'file_name': '...  \n",
       "2  {'creation_date': '2024-07-17', 'file_name': '...  \n",
       "3  {'creation_date': '2024-07-17', 'file_name': '...  \n",
       "4  {'creation_date': '2024-07-17', 'file_name': '...  "
      ]
     },
     "execution_count": 5,
     "metadata": {},
     "output_type": "execute_result"
    }
   ],
   "source": [
    "df.head()"
   ]
  },
  {
   "cell_type": "code",
   "execution_count": 9,
   "metadata": {},
   "outputs": [
    {
     "data": {
      "text/plain": [
       "['Chi tiết thủ tục hành chính:\\r',\n",
       " 'Mã thủ tục:\\r',\n",
       " '1.000009\\r',\n",
       " 'Số quyết định:\\r',\n",
       " '818 /QĐ-BNN-TCLN\\r',\n",
       " 'Tên thủ tục:\\r',\n",
       " 'Cấp ấn phẩm Chứng chỉ CITES xuất khẩu mẫu vật lưu niệm\\r',\n",
       " 'Cấp thực hiện:\\r',\n",
       " 'Cấp Bộ\\r',\n",
       " 'Loại thủ tục:\\r',\n",
       " 'TTHC được luật giao quy định chi tiết\\r',\n",
       " 'Lĩnh vực:\\r',\n",
       " 'Kiểm lâm\\r',\n",
       " 'Trình tự thực hiện:\\r',\n",
       " 'Tổ chức, cá nhân có nhu cầu được cấp ấn phẩm Chứng chỉ CITES xuất khẩu mẫu vật lưu niệm gửi 01 hồ sơ tới Cơ quan thẩm quyền quản lý CITES Việt Nam.\\r',\n",
       " 'Trong thời hạn 05 ngày làm việc, kể từ ngày nhận được hồ sơ hợp lệ, Cơ quan thẩm quyền quản lý CITES Việt Nam có trách nhiệm cấp ấn phẩm Chứng chỉ CITES xuất khẩu mẫu vật lưu niệm cho tổ chức, cá nhân.\\r',\n",
       " 'Trường hợp hồ sơ không hợp lệ, trong thời hạn 03 ngày làm việc, kể từ ngày nhận được hồ sơ, Cơ quan thẩm quyền quản lý CITES Việt Nam thông báo cho tổ chức, cá nhân biết.\\r',\n",
       " 'Cách thức thực hiện:\\r',\n",
       " '|Hình thức nộp|Thời hạn giải quyết|Phí, lệ phí|Mô tả|\\r',\n",
       " '|--|--|--|-|\\r',\n",
       " '|Trực tiếp|5 Ngày làm việc||05 ngày làm việc, kể từ ngày nhận được hồ sơ hợp lệ.|\\r',\n",
       " '|Trực tuyến|5 Ngày làm việc||05 ngày làm việc, kể từ ngày nhận được hồ sơ hợp lệ.|\\r',\n",
       " '|Dịch vụ bưu chính|5 Ngày làm việc||05 ngày làm việc, kể từ ngày nhận được hồ sơ hợp lệ.|\\r',\n",
       " '\\r',\n",
       " 'Thành phần hồ sơ:\\r',\n",
       " '\\r',\n",
       " 'Bao gồm\\r',\n",
       " '- 01 Bản chính Đề nghị cấp chứng chỉ theo Mẫu số 13 ban hành kèm theo Nghị định số 06/2019/NĐ-CP ngày 22/01/2019 của Chính phủ (<a href=\"https://csdl.dichvucong.gov.vn/web/jsp/download_file.jsp?ma=\\'3fe505382a4491d5\\'\">Mẫu số 13 đề nghị cấp ấn phẩm Chứng chỉ Cites xuất khẩu mẫu vật lưu niệm.docx</a>)\\r',\n",
       " '- 01 Bản chính Bản sao sổ theo dõi hoạt động theo Mẫu số 14 ban hành kèm theo Nghị định số 06/2019/NĐ-CP ngày 22/01/2019 của Chính phủ (<a href=\"https://csdl.dichvucong.gov.vn/web/jsp/download_file.jsp?ma=\\'3fe1f05a3349820f\\'\">Mẫu số 14 NĐ 06.2019.NĐ-CP.docx</a>)\\r',\n",
       " '\\r',\n",
       " 'Đối tượng thực hiện:\\r',\n",
       " 'Công dân Việt Nam, Người Việt Nam định cư ở nước ngoài, Doanh nghiệp, Doanh nghiệp có vốn đầu tư nước ngoài, Tổ chức (không bao gồm doanh nghiệp, HTX), Tổ chức nước ngoài, Hợp tác xã\\r',\n",
       " 'Cơ quan thực hiện:\\r',\n",
       " 'Cơ quan Quản lý CITES Việt Nam - Bộ NN-PTNT\\r',\n",
       " 'Cơ quan có thẩm quyền:\\r',\n",
       " 'Không có thông tin\\r',\n",
       " 'Địa chỉ tiếp nhận HS:\\r',\n",
       " 'Cơ quan thẩm quyền cites Việt Nam\\r',\n",
       " 'Cơ quan được ủy quyền:\\r',\n",
       " 'Không có thông tin\\r',\n",
       " 'Cơ quan phối hợp:\\r',\n",
       " 'Không có thông tin\\r',\n",
       " 'Kết quả thực hiện:\\r',\n",
       " 'Ấn phẩm Chứng chỉ CITES hoặc văn bản từ chối cấp ấn phẩm Chứng chỉ CITES\\r',\n",
       " 'Căn cứ pháp lý:\\r',\n",
       " '|Số ký hiệu|Trích yếu|Ngày ban hành|Cơ quan ban hành|\\r',\n",
       " '|--|--|--|-|\\r',\n",
       " '|06/2019/NĐ-CP|Nghị định 06/2019/NĐ-CP|22-01-2019|Chính phủ|\\r',\n",
       " '\\r',\n",
       " 'Yêu cầu, điều kiện thực hiện:\\r',\n",
       " '.\\r',\n",
       " 'Từ khóa:\\r',\n",
       " 'Không có thông tin\\r',\n",
       " 'Mô tả:\\r',\n",
       " 'Không có thông tin\\r',\n",
       " '']"
      ]
     },
     "execution_count": 9,
     "metadata": {},
     "output_type": "execute_result"
    }
   ],
   "source": [
    "df['contents'][0].split('\\n')"
   ]
  },
  {
   "cell_type": "markdown",
   "metadata": {},
   "source": [
    "## Generate Question từ các context trên với prompt sau:\n",
    "```\n",
    "prompt3 = \"\"\"\n",
    "Bạn là một AI được giao nhiệm vụ chuyển đổi văn bản về thủ tục dịch vụ công thành bộ câu hỏi và trả lời TIẾNG VIỆT.\n",
    "\n",
    "Hướng dẫn:\n",
    "1. Nguồn thông tin: Cả câu hỏi và câu trả lời phải được trích xuất trực tiếp từ văn bản đã cho. Không suy đoán hoặc thêm thông tin ngoài những gì có trong văn bản.\n",
    "2. Yêu cầu về câu hỏi:\n",
    "-Không hỏi về tên của thủ tục.\n",
    "-Mỗi câu hỏi phải bao gồm \"Tên thủ tục\" cụ thể có trong văn bản.\n",
    "-Không được sử dụng các cụm từ chung chung như \"thủ tục này\", \"trong văn bản\", \"thủ tục nào\".\n",
    "-Các câu hỏi phải chính xác và liên quan trực tiếp đến thông tin được cung cấp. Tránh hỏi những câu hỏi không rõ ràng hoặc không liên quan.\n",
    "-Đảm bảo mỗi câu hỏi khác nhau về cấu trúc nhưng vẫn hỏi về những khía cạnh cụ thể liên quan đến thủ tục được đề cập.\n",
    "3. Yêu cầu về câu trả lời:\n",
    "-Câu trả lời phải đầy đủ, chính xác và được trích dẫn trực tiếp từ văn bản.\n",
    "-Trả lời một cách rõ ràng và không mơ hồ, không sử dụng các đại từ chung chung như \"nó\", \"điều này\", v.v.\n",
    "4.Đa dạng câu hỏi: Câu hỏi phải có tính đa dạng về cách diễn đạt nhưng vẫn giữ được sự nhất quán về nội dung thông tin. Dùng các từ đồng nghĩa hoặc cách diễn đạt khác nhau để hỏi về các khía cạnh khác nhau của thủ tục.\n",
    "5.Số lượng câu hỏi: Kết quả phải bao gồm số lượng câu hỏi và câu trả lời được yêu cầu.\n",
    "\n",
    "Ví dụ về câu hỏi sai:\n",
    "Tên của thủ tục này là gì?\n",
    "Cấp thực hiện của thủ tục này là gì?\n",
    "Loại thủ tục của thủ tục này là gì ?\n",
    "\n",
    "\n",
    "Kết quả với 2 câu hỏi và trả lời:\n",
    "[Q]: Thủ tục báo cáo giải trình nhu cầu, thay đổi nhu cầu sử dụng người lao động nước ngoài thuộc loại thủ tục gì?\n",
    "[A]: Thủ tục báo cáo giải trình nhu cầu, thay đổi nhu cầu sử dụng người lao động nước ngoài thuộc loại thủ tục TTHC được luật giao quy định chi tiết.\n",
    "[Q]: Thủ tục báo cáo giải trình nhu cầu, thay đổi nhu cầu sử dụng người lao động nước ngoài có mã là gì?\n",
    "[A]: Mã thủ tục của thủ tục báo cáo giải trình nhu cầu, thay đổi nhu cầu sử dụng người lao động nước ngoài là 1.000105.\n",
    "\n",
    "Văn bản:\n",
    "\n",
    "{{text}}\n",
    "\n",
    "Kết quả với {{num_questions}} câu hỏi và trả lời:\n",
    "\n",
    "\"\"\"\n",
    "```\n"
   ]
  },
  {
   "cell_type": "markdown",
   "metadata": {},
   "source": [
    "## Đọc các QA dataframe từ 3 model (Mistral, Qwen và LLama3) <br>\n",
    "Số lượng context: 100 <br>\n",
    "Số lượng Question mỗi context: 5\n",
    "\n",
    "$\\Longrightarrow$ Tổng số lượng câu hỏi mỗi dataframe: 5*100 = 500"
   ]
  },
  {
   "cell_type": "code",
   "execution_count": 13,
   "metadata": {},
   "outputs": [
    {
     "name": "stdout",
     "output_type": "stream",
     "text": [
      "Size of QA Llama3 dataframe:  500\n",
      "Size of QA Mitsral dataframe:  500\n",
      "Size of QA Qwen dataframe:  500\n"
     ]
    }
   ],
   "source": [
    "qa_llama3_df = pd.read_parquet('./data/llm_question_gen/qa_llama3.parquet')\n",
    "print('Size of QA Llama3 dataframe: ', len(qa_llama3_df))\n",
    "\n",
    "qa_mistral_df = pd.read_parquet('./data/llm_question_gen/qa_mistral.parquet')\n",
    "print('Size of QA Mitsral dataframe: ', len(qa_mistral_df))\n",
    "\n",
    "qa_qwen_df = pd.read_parquet('./data/llm_question_gen/qa_qwen.parquet')\n",
    "print('Size of QA Qwen dataframe: ', len(qa_qwen_df))"
   ]
  },
  {
   "cell_type": "code",
   "execution_count": 12,
   "metadata": {},
   "outputs": [
    {
     "data": {
      "text/html": [
       "<div>\n",
       "<style scoped>\n",
       "    .dataframe tbody tr th:only-of-type {\n",
       "        vertical-align: middle;\n",
       "    }\n",
       "\n",
       "    .dataframe tbody tr th {\n",
       "        vertical-align: top;\n",
       "    }\n",
       "\n",
       "    .dataframe thead th {\n",
       "        text-align: right;\n",
       "    }\n",
       "</style>\n",
       "<table border=\"1\" class=\"dataframe\">\n",
       "  <thead>\n",
       "    <tr style=\"text-align: right;\">\n",
       "      <th></th>\n",
       "      <th>retrieval_gt</th>\n",
       "      <th>qid</th>\n",
       "      <th>query</th>\n",
       "      <th>generation_gt</th>\n",
       "    </tr>\n",
       "  </thead>\n",
       "  <tbody>\n",
       "    <tr>\n",
       "      <th>0</th>\n",
       "      <td>[[b4597feb-b61e-405d-b270-89b3bba0706f]]</td>\n",
       "      <td>6d277cde-c152-412f-8bff-c05d5abd455c</td>\n",
       "      <td>Thủ tục Cấp ấn phẩm Chứng chỉ CITES xuất khẩu ...</td>\n",
       "      <td>[Thủ tục Cấp ấn phẩm Chứng chỉ CITES xuất khẩu...</td>\n",
       "    </tr>\n",
       "    <tr>\n",
       "      <th>1</th>\n",
       "      <td>[[b4597feb-b61e-405d-b270-89b3bba0706f]]</td>\n",
       "      <td>28aaa2d1-7e16-4143-bf55-872ad6254b7b</td>\n",
       "      <td>Thủ tục Cấp ấn phẩm Chứng chỉ CITES xuất khẩu ...</td>\n",
       "      <td>[Mã thủ tục của thủ tục Cấp ấn phẩm Chứng chỉ ...</td>\n",
       "    </tr>\n",
       "    <tr>\n",
       "      <th>2</th>\n",
       "      <td>[[b4597feb-b61e-405d-b270-89b3bba0706f]]</td>\n",
       "      <td>dd4d482b-3b0d-4909-aee1-93002fa061da</td>\n",
       "      <td>Thủ tục Cấp ấn phẩm Chứng chỉ CITES xuất khẩu ...</td>\n",
       "      <td>[Thủ tục Cấp ấn phẩm Chứng chỉ CITES xuất khẩu...</td>\n",
       "    </tr>\n",
       "    <tr>\n",
       "      <th>3</th>\n",
       "      <td>[[b4597feb-b61e-405d-b270-89b3bba0706f]]</td>\n",
       "      <td>81ecc484-0b20-4211-9d19-32cdf8323529</td>\n",
       "      <td>Thủ tục Cấp ấn phẩm Chứng chỉ CITES xuất khẩu ...</td>\n",
       "      <td>[Thủ tục Cấp ấn phẩm Chứng chỉ CITES xuất khẩu...</td>\n",
       "    </tr>\n",
       "    <tr>\n",
       "      <th>4</th>\n",
       "      <td>[[b4597feb-b61e-405d-b270-89b3bba0706f]]</td>\n",
       "      <td>48e4c189-e074-4387-a67c-b7c1fe1e41ef</td>\n",
       "      <td>Thời gian giải quyết thủ tục Cấp ấn phẩm Chứng...</td>\n",
       "      <td>[Thời gian giải quyết thủ tục Cấp ấn phẩm Chứn...</td>\n",
       "    </tr>\n",
       "  </tbody>\n",
       "</table>\n",
       "</div>"
      ],
      "text/plain": [
       "                               retrieval_gt  \\\n",
       "0  [[b4597feb-b61e-405d-b270-89b3bba0706f]]   \n",
       "1  [[b4597feb-b61e-405d-b270-89b3bba0706f]]   \n",
       "2  [[b4597feb-b61e-405d-b270-89b3bba0706f]]   \n",
       "3  [[b4597feb-b61e-405d-b270-89b3bba0706f]]   \n",
       "4  [[b4597feb-b61e-405d-b270-89b3bba0706f]]   \n",
       "\n",
       "                                    qid  \\\n",
       "0  6d277cde-c152-412f-8bff-c05d5abd455c   \n",
       "1  28aaa2d1-7e16-4143-bf55-872ad6254b7b   \n",
       "2  dd4d482b-3b0d-4909-aee1-93002fa061da   \n",
       "3  81ecc484-0b20-4211-9d19-32cdf8323529   \n",
       "4  48e4c189-e074-4387-a67c-b7c1fe1e41ef   \n",
       "\n",
       "                                               query  \\\n",
       "0  Thủ tục Cấp ấn phẩm Chứng chỉ CITES xuất khẩu ...   \n",
       "1  Thủ tục Cấp ấn phẩm Chứng chỉ CITES xuất khẩu ...   \n",
       "2  Thủ tục Cấp ấn phẩm Chứng chỉ CITES xuất khẩu ...   \n",
       "3  Thủ tục Cấp ấn phẩm Chứng chỉ CITES xuất khẩu ...   \n",
       "4  Thời gian giải quyết thủ tục Cấp ấn phẩm Chứng...   \n",
       "\n",
       "                                       generation_gt  \n",
       "0  [Thủ tục Cấp ấn phẩm Chứng chỉ CITES xuất khẩu...  \n",
       "1  [Mã thủ tục của thủ tục Cấp ấn phẩm Chứng chỉ ...  \n",
       "2  [Thủ tục Cấp ấn phẩm Chứng chỉ CITES xuất khẩu...  \n",
       "3  [Thủ tục Cấp ấn phẩm Chứng chỉ CITES xuất khẩu...  \n",
       "4  [Thời gian giải quyết thủ tục Cấp ấn phẩm Chứn...  "
      ]
     },
     "execution_count": 12,
     "metadata": {},
     "output_type": "execute_result"
    }
   ],
   "source": [
    "qa_llama3_df.head()"
   ]
  },
  {
   "cell_type": "markdown",
   "metadata": {},
   "source": [
    "## Tiến hành cross-checking với mỗi model. Ví dụ với LLama3: <br>\n",
    "```\n",
    "verified_prompt = \"\"\"Bạn sẽ được cung cấp một đoạn văn bản và 5 câu hỏi. Hãy xác nhận liệu các câu hỏi có liên quan đến đoạn văn bản này không. Nếu câu hỏi có liên quan, hãy cung cấp câu trả lời dựa trên thông tin trong context. Nếu câu hỏi không liên quan, phải trả lời \"Không\".\n",
    "\n",
    "Yêu cầu:\n",
    "Đọc kỹ đoạn văn bản và câu hỏi.\n",
    "Xác định liệu câu hỏi có liên quan trực tiếp đến nội dung của đoạn văn bản hay không.\n",
    "Nếu câu hỏi có liên quan, hãy trả lời câu hỏi dựa trên thông tin từ đoạn văn bản, trả lời một cách đầy đủ, có chủ ngữ.\n",
    "Nếu câu hỏi có liên quan, không trả ra câu hỏi, chỉ cần trả ra câu trả lời.\n",
    "Sau mỗi câu trả lời đều phải có thêm kí tự '[END]'.\n",
    "Nếu câu hỏi không liên quan, hãy trả lời \"Không\".\n",
    "Nếu câu hỏi không cung cấp tên văn bản cụ thể, hãy trả lời là \"Không\".\n",
    "Nếu bạn không biết trả lời, hãy trả lời \"Không\".\n",
    "Số lượng câu trả lời luôn luôn phải là 5.\n",
    "\n",
    "Đoạn văn bản:\n",
    "Chi tiết thủ tục hành chính:\n",
    "Mã thủ tục:\n",
    "1.000105\n",
    "Số quyết định:\n",
    "1560/QĐ-LĐTBXH\n",
    "Tên thủ tục:\n",
    "Báo cáo giải trình nhu cầu, thay đổi nhu cầu sử dụng người lao động nước ngoài\n",
    "Cấp thực hiện:\n",
    "Cấp Tỉnh\n",
    "Loại thủ tục:\n",
    "TTHC được luật giao quy định chi tiết\n",
    "Lĩnh vực:\n",
    "Việc làm\n",
    "\n",
    "5 câu hỏi:\n",
    "Thủ tục báo cáo giải trình nhu cầu, thay đổi nhu cầu sử dụng người lao động nước ngoài thuộc loại thủ tục gì?\n",
    "Mã thủ tục báo cáo giải trình nhu cầu, thay đổi nhu cầu sử dụng người lao động nước ngoài là gì?\n",
    "Thủ tục trên được thực hiện ở đâu?\n",
    "Văn bản trên có mã thủ tục là gì?\n",
    "Lĩnh vực thực hiện của báo cáo giải trình nhu cầu, thay đổi nhu cầu sử dụng người lao động nước ngoài là gì?\n",
    "\n",
    "5 câu trả lời:\n",
    "Thủ tục báo cáo giải trình nhu cầu, thay đổi nhu cầu sử dụng người lao động nước ngoài thuộc loại thủ tục TTHC được luật giao quy định chi tiết. [END]\n",
    "Mã thủ tục của thủ tục báo cáo giải trình nhu cầu, thay đổi nhu cầu sử dụng người lao động nước ngoài là 1.000105. [END]\n",
    "Không [END]\n",
    "Không [END]\n",
    "Lĩnh vực thực hiện của báo cáo giải trình nhu cầu, thay đổi nhu cầu sử dụng người lao động nước ngoài là Việc làm. [END]\n",
    "\n",
    "Đoạn văn bản:\n",
    "{context}\n",
    "5 câu hỏi:\n",
    "{questions}\n",
    "5 câu trả lời:\n",
    "\"\"\"\n",
    "\n",
    "class CrossCheckingLLMs:\n",
    "def __init__(\n",
    "    self,\n",
    "    input_dataframe: pd.DataFrame,\n",
    "    qa_dataframe: pd.DataFrame,\n",
    "    generator_LLM: str,\n",
    "    checker_LLM: List[str]\n",
    ")\n",
    "checker = CrossCheckingLLMs(corpus_df[0:100], llama3_df, llm_llama3, [llm_qwen, llm_mistral])\n",
    "``` "
   ]
  },
  {
   "cell_type": "code",
   "execution_count": 39,
   "metadata": {},
   "outputs": [
    {
     "name": "stdout",
     "output_type": "stream",
     "text": [
      "Size of Verified questions of Llama3 dataframe:  497\n"
     ]
    }
   ],
   "source": [
    "qa_question_verified_llama3_df = pd.read_csv('./data/llm_verified_question/llama3_verified_dataframe_500.csv')\n",
    "print('Size of Verified questions of Llama3 dataframe: ', len(qa_question_verified_llama3_df))"
   ]
  },
  {
   "cell_type": "code",
   "execution_count": 40,
   "metadata": {},
   "outputs": [
    {
     "data": {
      "text/html": [
       "<div>\n",
       "<style scoped>\n",
       "    .dataframe tbody tr th:only-of-type {\n",
       "        vertical-align: middle;\n",
       "    }\n",
       "\n",
       "    .dataframe tbody tr th {\n",
       "        vertical-align: top;\n",
       "    }\n",
       "\n",
       "    .dataframe thead th {\n",
       "        text-align: right;\n",
       "    }\n",
       "</style>\n",
       "<table border=\"1\" class=\"dataframe\">\n",
       "  <thead>\n",
       "    <tr style=\"text-align: right;\">\n",
       "      <th></th>\n",
       "      <th>Context</th>\n",
       "      <th>Question</th>\n",
       "      <th>Answers</th>\n",
       "    </tr>\n",
       "  </thead>\n",
       "  <tbody>\n",
       "    <tr>\n",
       "      <th>0</th>\n",
       "      <td>Chi tiết thủ tục hành chính:\\r\\nMã thủ tục:\\r\\...</td>\n",
       "      <td>Thủ tục Cấp ấn phẩm Chứng chỉ CITES xuất khẩu ...</td>\n",
       "      <td>['Thủ tục Cấp ấn phẩm Chứng chỉ CITES xuất khẩ...</td>\n",
       "    </tr>\n",
       "    <tr>\n",
       "      <th>1</th>\n",
       "      <td>Chi tiết thủ tục hành chính:\\r\\nMã thủ tục:\\r\\...</td>\n",
       "      <td>Thủ tục Cấp ấn phẩm Chứng chỉ CITES xuất khẩu ...</td>\n",
       "      <td>['Mã thủ tục của thủ tục Cấp ấn phẩm Chứng chỉ...</td>\n",
       "    </tr>\n",
       "    <tr>\n",
       "      <th>2</th>\n",
       "      <td>Chi tiết thủ tục hành chính:\\r\\nMã thủ tục:\\r\\...</td>\n",
       "      <td>Thủ tục Cấp ấn phẩm Chứng chỉ CITES xuất khẩu ...</td>\n",
       "      <td>['Thủ tục Cấp ấn phẩm Chứng chỉ CITES xuất khẩ...</td>\n",
       "    </tr>\n",
       "    <tr>\n",
       "      <th>3</th>\n",
       "      <td>Chi tiết thủ tục hành chính:\\r\\nMã thủ tục:\\r\\...</td>\n",
       "      <td>Thủ tục Cấp ấn phẩm Chứng chỉ CITES xuất khẩu ...</td>\n",
       "      <td>['Thủ tục Cấp ấn phẩm Chứng chỉ CITES xuất khẩ...</td>\n",
       "    </tr>\n",
       "    <tr>\n",
       "      <th>4</th>\n",
       "      <td>Chi tiết thủ tục hành chính:\\r\\nMã thủ tục:\\r\\...</td>\n",
       "      <td>Thời gian giải quyết thủ tục Cấp ấn phẩm Chứng...</td>\n",
       "      <td>['Thời gian giải quyết thủ tục Cấp ấn phẩm Chứ...</td>\n",
       "    </tr>\n",
       "  </tbody>\n",
       "</table>\n",
       "</div>"
      ],
      "text/plain": [
       "                                             Context  \\\n",
       "0  Chi tiết thủ tục hành chính:\\r\\nMã thủ tục:\\r\\...   \n",
       "1  Chi tiết thủ tục hành chính:\\r\\nMã thủ tục:\\r\\...   \n",
       "2  Chi tiết thủ tục hành chính:\\r\\nMã thủ tục:\\r\\...   \n",
       "3  Chi tiết thủ tục hành chính:\\r\\nMã thủ tục:\\r\\...   \n",
       "4  Chi tiết thủ tục hành chính:\\r\\nMã thủ tục:\\r\\...   \n",
       "\n",
       "                                            Question  \\\n",
       "0  Thủ tục Cấp ấn phẩm Chứng chỉ CITES xuất khẩu ...   \n",
       "1  Thủ tục Cấp ấn phẩm Chứng chỉ CITES xuất khẩu ...   \n",
       "2  Thủ tục Cấp ấn phẩm Chứng chỉ CITES xuất khẩu ...   \n",
       "3  Thủ tục Cấp ấn phẩm Chứng chỉ CITES xuất khẩu ...   \n",
       "4  Thời gian giải quyết thủ tục Cấp ấn phẩm Chứng...   \n",
       "\n",
       "                                             Answers  \n",
       "0  ['Thủ tục Cấp ấn phẩm Chứng chỉ CITES xuất khẩ...  \n",
       "1  ['Mã thủ tục của thủ tục Cấp ấn phẩm Chứng chỉ...  \n",
       "2  ['Thủ tục Cấp ấn phẩm Chứng chỉ CITES xuất khẩ...  \n",
       "3  ['Thủ tục Cấp ấn phẩm Chứng chỉ CITES xuất khẩ...  \n",
       "4  ['Thời gian giải quyết thủ tục Cấp ấn phẩm Chứ...  "
      ]
     },
     "execution_count": 40,
     "metadata": {},
     "output_type": "execute_result"
    }
   ],
   "source": [
    "qa_question_verified_llama3_df.head()"
   ]
  },
  {
   "cell_type": "code",
   "execution_count": 41,
   "metadata": {},
   "outputs": [
    {
     "data": {
      "text/plain": [
       "[\"['Thủ tục Cấp ấn phẩm Chứng chỉ CITES xuất khẩu mẫu vật lưu niệm được thực hiện bởi Cơ quan Quản lý CITES Việt Nam - Bộ NN-PTNT.'\",\n",
       " \" 'Thủ tục Cấp ấn phẩm Chứng chỉ CITES xuất khẩu mẫu vật lưu niệm được thực hiện bởi Cơ quan Quản lý CITES Việt Nam - Bộ NN-PTNT.'\",\n",
       " \" 'Thủ tục Cấp ấn phẩm Chứng chỉ CITES xuất khẩu mẫu vật lưu niệm được thực hiện bởi Cấp Bộ.']\"]"
      ]
     },
     "execution_count": 41,
     "metadata": {},
     "output_type": "execute_result"
    }
   ],
   "source": [
    "qa_question_verified_llama3_df['Answers'][2].split(',')"
   ]
  },
  {
   "cell_type": "markdown",
   "metadata": {},
   "source": [
    "## Kiểm tra câu trả lời\n",
    "Sau khi đã đảm bảo được các question có liên quan đến context, tiến hành kiểm tra xem liệu các answer từ các LLM có đồng nhất hay không?<br>\n",
    "Ví dụ với Dataframe chứa question đã được verified, tạo ra từ LLama3:\n",
    "```\n",
    "class SimilarityCheck:\n",
    "    def __init__(\n",
    "        self,\n",
    "        input_dataframe: pd.DataFrame,\n",
    "        similarity_model: str,\n",
    "        output_path: str,\n",
    "    ):\n",
    "model = \"dangvantuan/vietnamese-embedding-LongContext\"\n",
    "sim_checker = SimilarityCheck(qa_verified_llama3_df,model,output_path='llama3_sim_dataframe.csv')\n",
    "```"
   ]
  },
  {
   "cell_type": "markdown",
   "metadata": {},
   "source": []
  },
  {
   "cell_type": "code",
   "execution_count": 45,
   "metadata": {},
   "outputs": [
    {
     "name": "stdout",
     "output_type": "stream",
     "text": [
      "Size of Verified answer of Llama3 dataframe:  452\n"
     ]
    }
   ],
   "source": [
    "qa_answer_verified_llama3_df = pd.read_csv('data/llm_verifed_answer/llama3_sim_dataframe.csv')\n",
    "print('Size of Verified answer of Llama3 dataframe: ', len(qa_answer_verified_llama3_df))"
   ]
  },
  {
   "cell_type": "code",
   "execution_count": 47,
   "metadata": {},
   "outputs": [
    {
     "data": {
      "text/html": [
       "<div>\n",
       "<style scoped>\n",
       "    .dataframe tbody tr th:only-of-type {\n",
       "        vertical-align: middle;\n",
       "    }\n",
       "\n",
       "    .dataframe tbody tr th {\n",
       "        vertical-align: top;\n",
       "    }\n",
       "\n",
       "    .dataframe thead th {\n",
       "        text-align: right;\n",
       "    }\n",
       "</style>\n",
       "<table border=\"1\" class=\"dataframe\">\n",
       "  <thead>\n",
       "    <tr style=\"text-align: right;\">\n",
       "      <th></th>\n",
       "      <th>Context</th>\n",
       "      <th>Question</th>\n",
       "      <th>Answers</th>\n",
       "      <th>avg_similarity</th>\n",
       "    </tr>\n",
       "  </thead>\n",
       "  <tbody>\n",
       "    <tr>\n",
       "      <th>0</th>\n",
       "      <td>Chi tiết thủ tục hành chính:\\r\\nMã thủ tục:\\r\\...</td>\n",
       "      <td>Thủ tục Cấp ấn phẩm Chứng chỉ CITES xuất khẩu ...</td>\n",
       "      <td>['Thủ tục Cấp ấn phẩm Chứng chỉ CITES xuất khẩ...</td>\n",
       "      <td>1.000000</td>\n",
       "    </tr>\n",
       "    <tr>\n",
       "      <th>1</th>\n",
       "      <td>Chi tiết thủ tục hành chính:\\r\\nMã thủ tục:\\r\\...</td>\n",
       "      <td>Thủ tục Cấp ấn phẩm Chứng chỉ CITES xuất khẩu ...</td>\n",
       "      <td>['Mã thủ tục của thủ tục Cấp ấn phẩm Chứng chỉ...</td>\n",
       "      <td>1.000000</td>\n",
       "    </tr>\n",
       "    <tr>\n",
       "      <th>2</th>\n",
       "      <td>Chi tiết thủ tục hành chính:\\r\\nMã thủ tục:\\r\\...</td>\n",
       "      <td>Thủ tục Cấp ấn phẩm Chứng chỉ CITES xuất khẩu ...</td>\n",
       "      <td>['Thủ tục Cấp ấn phẩm Chứng chỉ CITES xuất khẩ...</td>\n",
       "      <td>0.943554</td>\n",
       "    </tr>\n",
       "    <tr>\n",
       "      <th>3</th>\n",
       "      <td>Chi tiết thủ tục hành chính:\\r\\nMã thủ tục:\\r\\...</td>\n",
       "      <td>Thủ tục Cấp ấn phẩm Chứng chỉ CITES xuất khẩu ...</td>\n",
       "      <td>['Thủ tục Cấp ấn phẩm Chứng chỉ CITES xuất khẩ...</td>\n",
       "      <td>0.989094</td>\n",
       "    </tr>\n",
       "    <tr>\n",
       "      <th>4</th>\n",
       "      <td>Chi tiết thủ tục hành chính:\\r\\nMã thủ tục:\\r\\...</td>\n",
       "      <td>Thời gian giải quyết thủ tục Cấp ấn phẩm Chứng...</td>\n",
       "      <td>['Thời gian giải quyết thủ tục Cấp ấn phẩm Chứ...</td>\n",
       "      <td>0.985785</td>\n",
       "    </tr>\n",
       "  </tbody>\n",
       "</table>\n",
       "</div>"
      ],
      "text/plain": [
       "                                             Context  \\\n",
       "0  Chi tiết thủ tục hành chính:\\r\\nMã thủ tục:\\r\\...   \n",
       "1  Chi tiết thủ tục hành chính:\\r\\nMã thủ tục:\\r\\...   \n",
       "2  Chi tiết thủ tục hành chính:\\r\\nMã thủ tục:\\r\\...   \n",
       "3  Chi tiết thủ tục hành chính:\\r\\nMã thủ tục:\\r\\...   \n",
       "4  Chi tiết thủ tục hành chính:\\r\\nMã thủ tục:\\r\\...   \n",
       "\n",
       "                                            Question  \\\n",
       "0  Thủ tục Cấp ấn phẩm Chứng chỉ CITES xuất khẩu ...   \n",
       "1  Thủ tục Cấp ấn phẩm Chứng chỉ CITES xuất khẩu ...   \n",
       "2  Thủ tục Cấp ấn phẩm Chứng chỉ CITES xuất khẩu ...   \n",
       "3  Thủ tục Cấp ấn phẩm Chứng chỉ CITES xuất khẩu ...   \n",
       "4  Thời gian giải quyết thủ tục Cấp ấn phẩm Chứng...   \n",
       "\n",
       "                                             Answers  avg_similarity  \n",
       "0  ['Thủ tục Cấp ấn phẩm Chứng chỉ CITES xuất khẩ...        1.000000  \n",
       "1  ['Mã thủ tục của thủ tục Cấp ấn phẩm Chứng chỉ...        1.000000  \n",
       "2  ['Thủ tục Cấp ấn phẩm Chứng chỉ CITES xuất khẩ...        0.943554  \n",
       "3  ['Thủ tục Cấp ấn phẩm Chứng chỉ CITES xuất khẩ...        0.989094  \n",
       "4  ['Thời gian giải quyết thủ tục Cấp ấn phẩm Chứ...        0.985785  "
      ]
     },
     "execution_count": 47,
     "metadata": {},
     "output_type": "execute_result"
    }
   ],
   "source": [
    "qa_answer_verified_llama3_df.head()"
   ]
  },
  {
   "cell_type": "code",
   "execution_count": null,
   "metadata": {},
   "outputs": [],
   "source": []
  },
  {
   "cell_type": "code",
   "execution_count": 50,
   "metadata": {},
   "outputs": [
    {
     "data": {
      "text/plain": [
       "[\"['Thủ tục Cấp ấn phẩm Chứng chỉ CITES xuất khẩu mẫu vật lưu niệm được thực hiện bởi Cơ quan Quản lý CITES Việt Nam - Bộ NN-PTNT.'\",\n",
       " \" 'Thủ tục Cấp ấn phẩm Chứng chỉ CITES xuất khẩu mẫu vật lưu niệm được thực hiện bởi Cơ quan Quản lý CITES Việt Nam - Bộ NN-PTNT.'\",\n",
       " \" 'Thủ tục Cấp ấn phẩm Chứng chỉ CITES xuất khẩu mẫu vật lưu niệm được thực hiện bởi Cấp Bộ.']\"]"
      ]
     },
     "execution_count": 50,
     "metadata": {},
     "output_type": "execute_result"
    }
   ],
   "source": [
    "qa_answer_verified_llama3_df['Answers'][2].split(',')"
   ]
  },
  {
   "cell_type": "markdown",
   "metadata": {},
   "source": [
    "## Ghép các dataframe lại với nhau, cho ra kết quả cuối cùng"
   ]
  },
  {
   "cell_type": "code",
   "execution_count": 51,
   "metadata": {},
   "outputs": [
    {
     "name": "stdout",
     "output_type": "stream",
     "text": [
      "Size of final dataframe:  883\n"
     ]
    }
   ],
   "source": [
    "final_df = pd.read_csv('data/final_dataset/100_verified_context_QA.csv')\n",
    "print('Size of final dataframe: ', len(final_df))"
   ]
  },
  {
   "cell_type": "code",
   "execution_count": 52,
   "metadata": {},
   "outputs": [
    {
     "data": {
      "text/html": [
       "<div>\n",
       "<style scoped>\n",
       "    .dataframe tbody tr th:only-of-type {\n",
       "        vertical-align: middle;\n",
       "    }\n",
       "\n",
       "    .dataframe tbody tr th {\n",
       "        vertical-align: top;\n",
       "    }\n",
       "\n",
       "    .dataframe thead th {\n",
       "        text-align: right;\n",
       "    }\n",
       "</style>\n",
       "<table border=\"1\" class=\"dataframe\">\n",
       "  <thead>\n",
       "    <tr style=\"text-align: right;\">\n",
       "      <th></th>\n",
       "      <th>Context</th>\n",
       "      <th>Question</th>\n",
       "      <th>Answers</th>\n",
       "    </tr>\n",
       "  </thead>\n",
       "  <tbody>\n",
       "    <tr>\n",
       "      <th>0</th>\n",
       "      <td>Chi tiết thủ tục hành chính:\\r\\nMã thủ tục:\\r\\...</td>\n",
       "      <td>Cơ quan nào thực hiện thủ tục \"Cấp ấn phẩm Chứ...</td>\n",
       "      <td>['Thủ tục \"Cấp ấn phẩm Chứng chỉ CITES xuất kh...</td>\n",
       "    </tr>\n",
       "    <tr>\n",
       "      <th>1</th>\n",
       "      <td>Chi tiết thủ tục hành chính:\\r\\nMã thủ tục:\\r\\...</td>\n",
       "      <td>Thành phần hồ sơ cần thiết để thực hiện thủ tụ...</td>\n",
       "      <td>['Hồ sơ cần thiết để thực hiện thủ tục \"Cấp ấn...</td>\n",
       "    </tr>\n",
       "    <tr>\n",
       "      <th>2</th>\n",
       "      <td>Chi tiết thủ tục hành chính:\\r\\nMã thủ tục:\\r\\...</td>\n",
       "      <td>Thời gian giải quyết thủ tục Cấp ấn phẩm Chứng...</td>\n",
       "      <td>['Thời gian giải quyết thủ tục Cấp ấn phẩm Chứ...</td>\n",
       "    </tr>\n",
       "    <tr>\n",
       "      <th>3</th>\n",
       "      <td>Chi tiết thủ tục hành chính:\\r\\nMã thủ tục:\\r\\...</td>\n",
       "      <td>Thủ tục \"Cấp ấn phẩm Chứng chỉ CITES xuất khẩu...</td>\n",
       "      <td>['Thủ tục \"Cấp ấn phẩm Chứng chỉ CITES xuất kh...</td>\n",
       "    </tr>\n",
       "    <tr>\n",
       "      <th>4</th>\n",
       "      <td>Chi tiết thủ tục hành chính:\\r\\nMã thủ tục:\\r\\...</td>\n",
       "      <td>Thủ tục \"Cấp ấn phẩm Chứng chỉ CITES xuất khẩu...</td>\n",
       "      <td>['Thủ tục \"Cấp ấn phẩm Chứng chỉ CITES xuất kh...</td>\n",
       "    </tr>\n",
       "  </tbody>\n",
       "</table>\n",
       "</div>"
      ],
      "text/plain": [
       "                                             Context  \\\n",
       "0  Chi tiết thủ tục hành chính:\\r\\nMã thủ tục:\\r\\...   \n",
       "1  Chi tiết thủ tục hành chính:\\r\\nMã thủ tục:\\r\\...   \n",
       "2  Chi tiết thủ tục hành chính:\\r\\nMã thủ tục:\\r\\...   \n",
       "3  Chi tiết thủ tục hành chính:\\r\\nMã thủ tục:\\r\\...   \n",
       "4  Chi tiết thủ tục hành chính:\\r\\nMã thủ tục:\\r\\...   \n",
       "\n",
       "                                            Question  \\\n",
       "0  Cơ quan nào thực hiện thủ tục \"Cấp ấn phẩm Chứ...   \n",
       "1  Thành phần hồ sơ cần thiết để thực hiện thủ tụ...   \n",
       "2  Thời gian giải quyết thủ tục Cấp ấn phẩm Chứng...   \n",
       "3  Thủ tục \"Cấp ấn phẩm Chứng chỉ CITES xuất khẩu...   \n",
       "4  Thủ tục \"Cấp ấn phẩm Chứng chỉ CITES xuất khẩu...   \n",
       "\n",
       "                                             Answers  \n",
       "0  ['Thủ tục \"Cấp ấn phẩm Chứng chỉ CITES xuất kh...  \n",
       "1  ['Hồ sơ cần thiết để thực hiện thủ tục \"Cấp ấn...  \n",
       "2  ['Thời gian giải quyết thủ tục Cấp ấn phẩm Chứ...  \n",
       "3  ['Thủ tục \"Cấp ấn phẩm Chứng chỉ CITES xuất kh...  \n",
       "4  ['Thủ tục \"Cấp ấn phẩm Chứng chỉ CITES xuất kh...  "
      ]
     },
     "execution_count": 52,
     "metadata": {},
     "output_type": "execute_result"
    }
   ],
   "source": [
    "final_df.head()"
   ]
  },
  {
   "cell_type": "code",
   "execution_count": 58,
   "metadata": {},
   "outputs": [
    {
     "data": {
      "text/plain": [
       "'Thủ tục Cấp ấn phẩm Chứng chỉ CITES xuất khẩu mẫu vật lưu niệm có thể được thực hiện theo hình thức nào?'"
      ]
     },
     "execution_count": 58,
     "metadata": {},
     "output_type": "execute_result"
    }
   ],
   "source": [
    "final_df['Question'][6]"
   ]
  },
  {
   "cell_type": "code",
   "execution_count": 61,
   "metadata": {},
   "outputs": [
    {
     "data": {
      "text/plain": [
       "['Thủ tục Cấp ấn phẩm Chứng chỉ CITES xuất khẩu mẫu vật lưu niệm có thể được thực hiện theo hình thức Trực tiếp, Trực tuyến, Dịch vụ bưu chính.',\n",
       " 'Thủ tục Cấp ấn phẩm Chứng chỉ CITES xuất khẩu mẫu vật lưu niệm có thể được thực hiện theo hình thức trực tiếp, trực tuyến hoặc qua dịch vụ bưu chính.',\n",
       " 'Thủ tục Cấp ấn phẩm Chứng chỉ CITES xuất khẩu mẫu vật lưu niệm có thể được thực hiện theo các hình thức trực tiếp, trực tuyến và dịch vụ bưu chính.']"
      ]
     },
     "execution_count": 61,
     "metadata": {},
     "output_type": "execute_result"
    }
   ],
   "source": [
    "ast.literal_eval(final_df['Answers'][6])"
   ]
  }
 ],
 "metadata": {
  "kernelspec": {
   "display_name": "base",
   "language": "python",
   "name": "python3"
  },
  "language_info": {
   "codemirror_mode": {
    "name": "ipython",
    "version": 3
   },
   "file_extension": ".py",
   "mimetype": "text/x-python",
   "name": "python",
   "nbconvert_exporter": "python",
   "pygments_lexer": "ipython3",
   "version": "3.9.18"
  }
 },
 "nbformat": 4,
 "nbformat_minor": 2
}
