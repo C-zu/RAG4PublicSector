{
 "cells": [
  {
   "cell_type": "code",
   "execution_count": 1,
   "metadata": {},
   "outputs": [],
   "source": [
    "from langchain_community.chat_models import ChatOllama\n",
    "from langchain_core.output_parsers import StrOutputParser\n",
    "from langchain_core.prompts import ChatPromptTemplate\n"
   ]
  },
  {
   "cell_type": "code",
   "execution_count": 2,
   "metadata": {},
   "outputs": [
    {
     "data": {
      "text/html": [
       "<div>\n",
       "<style scoped>\n",
       "    .dataframe tbody tr th:only-of-type {\n",
       "        vertical-align: middle;\n",
       "    }\n",
       "\n",
       "    .dataframe tbody tr th {\n",
       "        vertical-align: top;\n",
       "    }\n",
       "\n",
       "    .dataframe thead th {\n",
       "        text-align: right;\n",
       "    }\n",
       "</style>\n",
       "<table border=\"1\" class=\"dataframe\">\n",
       "  <thead>\n",
       "    <tr style=\"text-align: right;\">\n",
       "      <th></th>\n",
       "      <th>query</th>\n",
       "      <th>generation_gt</th>\n",
       "    </tr>\n",
       "  </thead>\n",
       "  <tbody>\n",
       "    <tr>\n",
       "      <th>0</th>\n",
       "      <td>Thủ tục cấp Giấy phép mở và sử dụng tài khoản ngoại tệ ở nước ngoài cho hoạt động chi nhánh, văn phòng đại diện của tổ chức tín dụng được phép yêu cầu những tài liệu nào trong hồ sơ?</td>\n",
       "      <td>[Hồ sơ bao gồm: 01 Bản chính Đơn đề nghị cấp Giấy phép theo Phụ lục số 01, 01 Bản sao Giấy phép thành lập và hoạt động của tổ chức tín dụng được phép, 01 Bản sao văn bản của Ngân hàng Nhà nước về việc cho phép thành lập văn phòng đại diện ở nước ngoài, 01 Bản sao kèm bản dịch tiếng Việt văn bản của cơ quan có thẩm quyền nước ngoài cho phép được thành lập văn phòng đại diện ở nước ngoài, 01 Bản chính Quyết định về việc thành lập văn phòng đại diện ở nước ngoài do người đại diện hợp pháp của tổ chức tín dụng được phép ký, 01 Bản chính Quyết định phê duyệt chi phí hàng năm cho hoạt động của văn phòng đại diện ở nước ngoài do người đại diện hợp pháp của tổ chức tín dụng được phép ký, và 01 Bản chính Quy chế tổ chức hoạt động của văn phòng đại diện ở nước ngoài do người đại diện hợp pháp của tổ chức tín dụng được phép ký (nếu có).]</td>\n",
       "    </tr>\n",
       "    <tr>\n",
       "      <th>1</th>\n",
       "      <td>Thời hạn giải quyết thủ tục cấp Giấy phép mở và sử dụng tài khoản ngoại tệ ở nước ngoài là bao lâu đối với hồ sơ nộp trực tiếp?</td>\n",
       "      <td>[Thời hạn giải quyết đối với hồ sơ nộp trực tiếp là 15 ngày làm việc kể từ ngày Ngân hàng Nhà nước nhận đủ hồ sơ hợp lệ.]</td>\n",
       "    </tr>\n",
       "    <tr>\n",
       "      <th>2</th>\n",
       "      <td>Thủ tục cấp Giấy phép mở và sử dụng tài khoản ngoại tệ ở nước ngoài do cơ quan nào thực hiện?</td>\n",
       "      <td>[Ngân hàng Nhà Nước Việt Nam thực hiện thủ tục này.]</td>\n",
       "    </tr>\n",
       "    <tr>\n",
       "      <th>3</th>\n",
       "      <td>Nếu hồ sơ đề nghị cấp Giấy phép mở và sử dụng tài khoản ngoại tệ ở nước ngoài chưa đầy đủ, hợp lệ, Ngân hàng Nhà nước Việt Nam sẽ có văn bản yêu cầu trong bao lâu?</td>\n",
       "      <td>[Trong thời hạn 07 (bảy) ngày làm việc kể từ ngày nhận được hồ sơ.]</td>\n",
       "    </tr>\n",
       "    <tr>\n",
       "      <th>4</th>\n",
       "      <td>Cơ quan có thẩm quyền cấp Giấy phép mở và sử dụng tài khoản ngoại tệ ở nước ngoài trong thủ tục này là cơ quan nào?</td>\n",
       "      <td>[Cơ quan có thẩm quyền là Ngân hàng Nhà nước Việt Nam.]</td>\n",
       "    </tr>\n",
       "    <tr>\n",
       "      <th>5</th>\n",
       "      <td>Về thủ tục \"Cấp đổi Giấy phép sử dụng công cụ hỗ trợ tại Công an tỉnh, thành phố trực thuộc trung ương\",  đối tượng nào được phép nộp hồ sơ?</td>\n",
       "      <td>[Doanh nghiệp, Tổ chức (không bao gồm doanh nghiệp, HTX).]</td>\n",
       "    </tr>\n",
       "    <tr>\n",
       "      <th>6</th>\n",
       "      <td>Thủ tục \"Cấp đổi Giấy phép sử dụng công cụ hỗ trợ\" được thực hiện bởi ai cấp tỉnh?</td>\n",
       "      <td>[Phòng cảnh sát quản lý hành chính về trật tự xã hội.]</td>\n",
       "    </tr>\n",
       "    <tr>\n",
       "      <th>7</th>\n",
       "      <td>Hồ sơ cho thủ tục \"Cấp đổi Giấy phép sử dụng công cụ hỗ trợ\" cần bao gồm những gì tối thiểu?</td>\n",
       "      <td>[Bao gồm 01 Bản chính Văn bản đề nghị nêu rõ lý do, số lượng, chủng loại, nhãn hiệu, số hiệu, ký hiệu từng loại công cụ hỗ trợ; 01 Bản chính giấy giới thiệu; 01 Bản sao bản sao thẻ Căn cước công dân, Chứng minh nhân dân, Hộ chiếu hoặc Chứng minh Công an nhân dân của người đến liên hệ.]</td>\n",
       "    </tr>\n",
       "    <tr>\n",
       "      <th>8</th>\n",
       "      <td>Thời hạn giải quyết thủ tục \"Cấp đổi Giấy phép sử dụng công cụ hỗ trợ\" là bao lâu nếu nộp hồ sơ trực tiếp?</td>\n",
       "      <td>[10 Ngày làm việc.]</td>\n",
       "    </tr>\n",
       "    <tr>\n",
       "      <th>9</th>\n",
       "      <td>Làm thế nào để nộp \"Cấp đổi Giấy phép sử dụng công cụ hỗ trợ\" nếu muốn được nhanh nhất và tiết kiệm chi phí?</td>\n",
       "      <td>[Hồ sơ có thể được nộp trực tiếp tại trụ sở Phòng Cảnh sát quản lý hành chính về trật tự xã hội, Công an tỉnh, thành phố trực thuộc trung ương hoặc trực tuyến qua Cổng Dịch vụ công quốc gia hoặc Cổng dịch vụ công Bộ Công an.]</td>\n",
       "    </tr>\n",
       "    <tr>\n",
       "      <th>10</th>\n",
       "      <td>Thủ tục cấp Giấy phép mở và sử dụng tài khoản ngoại tệ ở nước ngoài để đáp ứng các điều kiện xin cấp phép thành lập và hoạt động cho văn phòng đại diện, chi nhánh, ngân hàng 100% vốn ở nước ngoài của tổ chức tín dụng được phép yêu cầu hồ sơ nào để được xem xét cấp phép, theo thủ tục này?</td>\n",
       "      <td>[Hồ sơ phải bao gồm: 01 Bản chính Đơn đề nghị cấp Giấy phép theo Phụ lục số 01; 01 Bản sao Giấy phép thành lập và hoạt động của tổ chức tín dụng được phép; 01 Bản sao văn bản của Ngân hàng Nhà nước về việc cho phép thành lập văn phòng đại diện, chi nhánh, ngân hàng 100% vốn ở nước ngoài; 01 Bản sao kèm bản dịch tiếng Việt tài liệu của bên nước ngoài chứng minh việc tổ chức tín dụng phải mở tài khoản tại nước sở tại để đáp ứng điều kiện xin cấp phép thành lập và hoạt động cho văn phòng đại diện, chi nhánh, ngân hàng 100% vốn ở nước ngoài theo quy định của pháp luật nước sở tại; và 01 Bản sao kèm bản dịch tiếng Việt văn bản của cơ quan thẩm quyền của nước sở tại cho phép thành lập và hoạt động tạm thời cho văn phòng đại diện, chi nhánh, ngân hàng 100% vốn ở nước ngoài (nếu có).]</td>\n",
       "    </tr>\n",
       "    <tr>\n",
       "      <th>11</th>\n",
       "      <td>Thời hạn Ngân hàng Nhà nước Việt Nam xem xét hồ sơ và cấp Giấy phép mở và sử dụng tài khoản ngoại tệ ở nước ngoài cho tổ chức tín dụng là bao lâu trong thủ tục này?</td>\n",
       "      <td>[Trong thời hạn 15 (mười lăm) ngày làm việc kể từ ngày nhận đủ hồ sơ hợp lệ, Ngân hàng Nhà nước Việt Nam xem xét cấp Giấy phép.]</td>\n",
       "    </tr>\n",
       "    <tr>\n",
       "      <th>12</th>\n",
       "      <td>Nếu hồ sơ của tổ chức tín dụng chưa đầy đủ, Ngân hàng Nhà nước Việt Nam xử lý như thế nào theo quy định trong thủ tục này?</td>\n",
       "      <td>[Trường hợp hồ sơ chưa đầy đủ, hợp lệ, trong thời hạn 07 (bảy) ngày làm việc kể từ ngày nhận được hồ sơ, Ngân hàng Nhà nước Việt Nam có văn bản yêu cầu bổ sung hồ sơ.]</td>\n",
       "    </tr>\n",
       "    <tr>\n",
       "      <th>13</th>\n",
       "      <td>Cơ quan nào có thẩm quyền xem xét và cấp Giấy phép mở và sử dụng tài khoản ngoại tệ nước ngoài, theo thủ tục được mô tả?</td>\n",
       "      <td>[Ngân hàng Nhà nước Việt Nam có thẩm quyền xem xét và cấp Giấy phép.]</td>\n",
       "    </tr>\n",
       "    <tr>\n",
       "      <th>14</th>\n",
       "      <td>Theo thủ tục cấp Giấy phép này, loại hình tổ chức nào có thể thực hiện việc mở tài khoản ngoại tệ nước ngoài?</td>\n",
       "      <td>[Tổ chức (không bao gồm doanh nghiệp, HTX), Tổ chức nước ngoài có thể thực hiện việc mở tài khoản ngoại tệ nước ngoài.]</td>\n",
       "    </tr>\n",
       "  </tbody>\n",
       "</table>\n",
       "</div>"
      ],
      "text/plain": [
       "                                                                                                                                                                                                                                                                                               query  \\\n",
       "0                                                                                                             Thủ tục cấp Giấy phép mở và sử dụng tài khoản ngoại tệ ở nước ngoài cho hoạt động chi nhánh, văn phòng đại diện của tổ chức tín dụng được phép yêu cầu những tài liệu nào trong hồ sơ?   \n",
       "1                                                                                                                                                                    Thời hạn giải quyết thủ tục cấp Giấy phép mở và sử dụng tài khoản ngoại tệ ở nước ngoài là bao lâu đối với hồ sơ nộp trực tiếp?   \n",
       "2                                                                                                                                                                                                      Thủ tục cấp Giấy phép mở và sử dụng tài khoản ngoại tệ ở nước ngoài do cơ quan nào thực hiện?   \n",
       "3                                                                                                                                Nếu hồ sơ đề nghị cấp Giấy phép mở và sử dụng tài khoản ngoại tệ ở nước ngoài chưa đầy đủ, hợp lệ, Ngân hàng Nhà nước Việt Nam sẽ có văn bản yêu cầu trong bao lâu?   \n",
       "4                                                                                                                                                                                Cơ quan có thẩm quyền cấp Giấy phép mở và sử dụng tài khoản ngoại tệ ở nước ngoài trong thủ tục này là cơ quan nào?   \n",
       "5                                                                                                                                                       Về thủ tục \"Cấp đổi Giấy phép sử dụng công cụ hỗ trợ tại Công an tỉnh, thành phố trực thuộc trung ương\",  đối tượng nào được phép nộp hồ sơ?   \n",
       "6                                                                                                                                                                                                                 Thủ tục \"Cấp đổi Giấy phép sử dụng công cụ hỗ trợ\" được thực hiện bởi ai cấp tỉnh?   \n",
       "7                                                                                                                                                                                                       Hồ sơ cho thủ tục \"Cấp đổi Giấy phép sử dụng công cụ hỗ trợ\" cần bao gồm những gì tối thiểu?   \n",
       "8                                                                                                                                                                                         Thời hạn giải quyết thủ tục \"Cấp đổi Giấy phép sử dụng công cụ hỗ trợ\" là bao lâu nếu nộp hồ sơ trực tiếp?   \n",
       "9                                                                                                                                                                                       Làm thế nào để nộp \"Cấp đổi Giấy phép sử dụng công cụ hỗ trợ\" nếu muốn được nhanh nhất và tiết kiệm chi phí?   \n",
       "10  Thủ tục cấp Giấy phép mở và sử dụng tài khoản ngoại tệ ở nước ngoài để đáp ứng các điều kiện xin cấp phép thành lập và hoạt động cho văn phòng đại diện, chi nhánh, ngân hàng 100% vốn ở nước ngoài của tổ chức tín dụng được phép yêu cầu hồ sơ nào để được xem xét cấp phép, theo thủ tục này?   \n",
       "11                                                                                                                              Thời hạn Ngân hàng Nhà nước Việt Nam xem xét hồ sơ và cấp Giấy phép mở và sử dụng tài khoản ngoại tệ ở nước ngoài cho tổ chức tín dụng là bao lâu trong thủ tục này?   \n",
       "12                                                                                                                                                                        Nếu hồ sơ của tổ chức tín dụng chưa đầy đủ, Ngân hàng Nhà nước Việt Nam xử lý như thế nào theo quy định trong thủ tục này?   \n",
       "13                                                                                                                                                                          Cơ quan nào có thẩm quyền xem xét và cấp Giấy phép mở và sử dụng tài khoản ngoại tệ nước ngoài, theo thủ tục được mô tả?   \n",
       "14                                                                                                                                                                                     Theo thủ tục cấp Giấy phép này, loại hình tổ chức nào có thể thực hiện việc mở tài khoản ngoại tệ nước ngoài?   \n",
       "\n",
       "                                                                                                                                                                                                                                                                                                                                                                                                                                                                                                                                                                                                                                                                                                                                                                                                                                                             generation_gt  \n",
       "0   [Hồ sơ bao gồm: 01 Bản chính Đơn đề nghị cấp Giấy phép theo Phụ lục số 01, 01 Bản sao Giấy phép thành lập và hoạt động của tổ chức tín dụng được phép, 01 Bản sao văn bản của Ngân hàng Nhà nước về việc cho phép thành lập văn phòng đại diện ở nước ngoài, 01 Bản sao kèm bản dịch tiếng Việt văn bản của cơ quan có thẩm quyền nước ngoài cho phép được thành lập văn phòng đại diện ở nước ngoài, 01 Bản chính Quyết định về việc thành lập văn phòng đại diện ở nước ngoài do người đại diện hợp pháp của tổ chức tín dụng được phép ký, 01 Bản chính Quyết định phê duyệt chi phí hàng năm cho hoạt động của văn phòng đại diện ở nước ngoài do người đại diện hợp pháp của tổ chức tín dụng được phép ký, và 01 Bản chính Quy chế tổ chức hoạt động của văn phòng đại diện ở nước ngoài do người đại diện hợp pháp của tổ chức tín dụng được phép ký (nếu có).]  \n",
       "1                                                                                                                                                                                                                                                                                                                                                                                                                                                                                                                                                                                                                                                                                                                                                [Thời hạn giải quyết đối với hồ sơ nộp trực tiếp là 15 ngày làm việc kể từ ngày Ngân hàng Nhà nước nhận đủ hồ sơ hợp lệ.]  \n",
       "2                                                                                                                                                                                                                                                                                                                                                                                                                                                                                                                                                                                                                                                                                                                                                                                                                     [Ngân hàng Nhà Nước Việt Nam thực hiện thủ tục này.]  \n",
       "3                                                                                                                                                                                                                                                                                                                                                                                                                                                                                                                                                                                                                                                                                                                                                                                                      [Trong thời hạn 07 (bảy) ngày làm việc kể từ ngày nhận được hồ sơ.]  \n",
       "4                                                                                                                                                                                                                                                                                                                                                                                                                                                                                                                                                                                                                                                                                                                                                                                                                  [Cơ quan có thẩm quyền là Ngân hàng Nhà nước Việt Nam.]  \n",
       "5                                                                                                                                                                                                                                                                                                                                                                                                                                                                                                                                                                                                                                                                                                                                                                                                               [Doanh nghiệp, Tổ chức (không bao gồm doanh nghiệp, HTX).]  \n",
       "6                                                                                                                                                                                                                                                                                                                                                                                                                                                                                                                                                                                                                                                                                                                                                                                                                   [Phòng cảnh sát quản lý hành chính về trật tự xã hội.]  \n",
       "7                                                                                                                                                                                                                                                                                                                                                                                                                                                                                                                                                                           [Bao gồm 01 Bản chính Văn bản đề nghị nêu rõ lý do, số lượng, chủng loại, nhãn hiệu, số hiệu, ký hiệu từng loại công cụ hỗ trợ; 01 Bản chính giấy giới thiệu; 01 Bản sao bản sao thẻ Căn cước công dân, Chứng minh nhân dân, Hộ chiếu hoặc Chứng minh Công an nhân dân của người đến liên hệ.]  \n",
       "8                                                                                                                                                                                                                                                                                                                                                                                                                                                                                                                                                                                                                                                                                                                                                                                                                                                      [10 Ngày làm việc.]  \n",
       "9                                                                                                                                                                                                                                                                                                                                                                                                                                                                                                                                                                                                                                        [Hồ sơ có thể được nộp trực tiếp tại trụ sở Phòng Cảnh sát quản lý hành chính về trật tự xã hội, Công an tỉnh, thành phố trực thuộc trung ương hoặc trực tuyến qua Cổng Dịch vụ công quốc gia hoặc Cổng dịch vụ công Bộ Công an.]  \n",
       "10                                                     [Hồ sơ phải bao gồm: 01 Bản chính Đơn đề nghị cấp Giấy phép theo Phụ lục số 01; 01 Bản sao Giấy phép thành lập và hoạt động của tổ chức tín dụng được phép; 01 Bản sao văn bản của Ngân hàng Nhà nước về việc cho phép thành lập văn phòng đại diện, chi nhánh, ngân hàng 100% vốn ở nước ngoài; 01 Bản sao kèm bản dịch tiếng Việt tài liệu của bên nước ngoài chứng minh việc tổ chức tín dụng phải mở tài khoản tại nước sở tại để đáp ứng điều kiện xin cấp phép thành lập và hoạt động cho văn phòng đại diện, chi nhánh, ngân hàng 100% vốn ở nước ngoài theo quy định của pháp luật nước sở tại; và 01 Bản sao kèm bản dịch tiếng Việt văn bản của cơ quan thẩm quyền của nước sở tại cho phép thành lập và hoạt động tạm thời cho văn phòng đại diện, chi nhánh, ngân hàng 100% vốn ở nước ngoài (nếu có).]  \n",
       "11                                                                                                                                                                                                                                                                                                                                                                                                                                                                                                                                                                                                                                                                                                                                        [Trong thời hạn 15 (mười lăm) ngày làm việc kể từ ngày nhận đủ hồ sơ hợp lệ, Ngân hàng Nhà nước Việt Nam xem xét cấp Giấy phép.]  \n",
       "12                                                                                                                                                                                                                                                                                                                                                                                                                                                                                                                                                                                                                                                                                                 [Trường hợp hồ sơ chưa đầy đủ, hợp lệ, trong thời hạn 07 (bảy) ngày làm việc kể từ ngày nhận được hồ sơ, Ngân hàng Nhà nước Việt Nam có văn bản yêu cầu bổ sung hồ sơ.]  \n",
       "13                                                                                                                                                                                                                                                                                                                                                                                                                                                                                                                                                                                                                                                                                                                                                                                                   [Ngân hàng Nhà nước Việt Nam có thẩm quyền xem xét và cấp Giấy phép.]  \n",
       "14                                                                                                                                                                                                                                                                                                                                                                                                                                                                                                                                                                                                                                                                                                                                                 [Tổ chức (không bao gồm doanh nghiệp, HTX), Tổ chức nước ngoài có thể thực hiện việc mở tài khoản ngoại tệ nước ngoài.]  "
      ]
     },
     "execution_count": 2,
     "metadata": {},
     "output_type": "execute_result"
    }
   ],
   "source": [
    "import pandas as pd\n",
    "pd.set_option(\"max_colwidth\", None)\n",
    "corpus_df = pd.read_parquet('E:/thesis/RAG4PublicSector/data/data_gen_from_pipeline/pipeline_index_47_50/google.parquet')   \n",
    "corpus_df[['query','generation_gt']]"
   ]
  },
  {
   "cell_type": "code",
   "execution_count": 3,
   "metadata": {},
   "outputs": [
    {
     "ename": "FileNotFoundError",
     "evalue": "[Errno 2] No such file or directory: 'E:/thesis/RAG4PublicSector/data/data_gen_from_pipeline/pipeline_index_10_50/final_dataframe_10_50.csv'",
     "output_type": "error",
     "traceback": [
      "\u001b[1;31m---------------------------------------------------------------------------\u001b[0m",
      "\u001b[1;31mFileNotFoundError\u001b[0m                         Traceback (most recent call last)",
      "\u001b[1;32m~\\AppData\\Local\\Temp\\ipykernel_5348\\701673403.py\u001b[0m in \u001b[0;36m<module>\u001b[1;34m\u001b[0m\n\u001b[0;32m      1\u001b[0m \u001b[1;32mimport\u001b[0m \u001b[0mpandas\u001b[0m \u001b[1;32mas\u001b[0m \u001b[0mpd\u001b[0m\u001b[1;33m\u001b[0m\u001b[1;33m\u001b[0m\u001b[0m\n\u001b[0;32m      2\u001b[0m \u001b[0mpd\u001b[0m\u001b[1;33m.\u001b[0m\u001b[0mset_option\u001b[0m\u001b[1;33m(\u001b[0m\u001b[1;34m\"max_colwidth\"\u001b[0m\u001b[1;33m,\u001b[0m \u001b[1;32mNone\u001b[0m\u001b[1;33m)\u001b[0m\u001b[1;33m\u001b[0m\u001b[1;33m\u001b[0m\u001b[0m\n\u001b[1;32m----> 3\u001b[1;33m \u001b[0mcorpus_df\u001b[0m \u001b[1;33m=\u001b[0m \u001b[0mpd\u001b[0m\u001b[1;33m.\u001b[0m\u001b[0mread_csv\u001b[0m\u001b[1;33m(\u001b[0m\u001b[1;34m'E:/thesis/RAG4PublicSector/data/data_gen_from_pipeline/pipeline_index_10_50/final_dataframe_10_50.csv'\u001b[0m\u001b[1;33m)\u001b[0m\u001b[1;33m\u001b[0m\u001b[1;33m\u001b[0m\u001b[0m\n\u001b[0m\u001b[0;32m      4\u001b[0m \u001b[0mcorpus_df\u001b[0m\u001b[1;33m[\u001b[0m\u001b[1;33m[\u001b[0m\u001b[1;34m'Question'\u001b[0m\u001b[1;33m,\u001b[0m\u001b[1;34m'Answers'\u001b[0m\u001b[1;33m]\u001b[0m\u001b[1;33m]\u001b[0m\u001b[1;33m\u001b[0m\u001b[1;33m\u001b[0m\u001b[0m\n",
      "\u001b[1;32me:\\Anacondo 3\\lib\\site-packages\\pandas\\io\\parsers\\readers.py\u001b[0m in \u001b[0;36mread_csv\u001b[1;34m(filepath_or_buffer, sep, delimiter, header, names, index_col, usecols, dtype, engine, converters, true_values, false_values, skipinitialspace, skiprows, skipfooter, nrows, na_values, keep_default_na, na_filter, verbose, skip_blank_lines, parse_dates, infer_datetime_format, keep_date_col, date_parser, date_format, dayfirst, cache_dates, iterator, chunksize, compression, thousands, decimal, lineterminator, quotechar, quoting, doublequote, escapechar, comment, encoding, encoding_errors, dialect, on_bad_lines, delim_whitespace, low_memory, memory_map, float_precision, storage_options, dtype_backend)\u001b[0m\n\u001b[0;32m    946\u001b[0m     \u001b[0mkwds\u001b[0m\u001b[1;33m.\u001b[0m\u001b[0mupdate\u001b[0m\u001b[1;33m(\u001b[0m\u001b[0mkwds_defaults\u001b[0m\u001b[1;33m)\u001b[0m\u001b[1;33m\u001b[0m\u001b[1;33m\u001b[0m\u001b[0m\n\u001b[0;32m    947\u001b[0m \u001b[1;33m\u001b[0m\u001b[0m\n\u001b[1;32m--> 948\u001b[1;33m     \u001b[1;32mreturn\u001b[0m \u001b[0m_read\u001b[0m\u001b[1;33m(\u001b[0m\u001b[0mfilepath_or_buffer\u001b[0m\u001b[1;33m,\u001b[0m \u001b[0mkwds\u001b[0m\u001b[1;33m)\u001b[0m\u001b[1;33m\u001b[0m\u001b[1;33m\u001b[0m\u001b[0m\n\u001b[0m\u001b[0;32m    949\u001b[0m \u001b[1;33m\u001b[0m\u001b[0m\n\u001b[0;32m    950\u001b[0m \u001b[1;33m\u001b[0m\u001b[0m\n",
      "\u001b[1;32me:\\Anacondo 3\\lib\\site-packages\\pandas\\io\\parsers\\readers.py\u001b[0m in \u001b[0;36m_read\u001b[1;34m(filepath_or_buffer, kwds)\u001b[0m\n\u001b[0;32m    609\u001b[0m \u001b[1;33m\u001b[0m\u001b[0m\n\u001b[0;32m    610\u001b[0m     \u001b[1;31m# Create the parser.\u001b[0m\u001b[1;33m\u001b[0m\u001b[1;33m\u001b[0m\u001b[0m\n\u001b[1;32m--> 611\u001b[1;33m     \u001b[0mparser\u001b[0m \u001b[1;33m=\u001b[0m \u001b[0mTextFileReader\u001b[0m\u001b[1;33m(\u001b[0m\u001b[0mfilepath_or_buffer\u001b[0m\u001b[1;33m,\u001b[0m \u001b[1;33m**\u001b[0m\u001b[0mkwds\u001b[0m\u001b[1;33m)\u001b[0m\u001b[1;33m\u001b[0m\u001b[1;33m\u001b[0m\u001b[0m\n\u001b[0m\u001b[0;32m    612\u001b[0m \u001b[1;33m\u001b[0m\u001b[0m\n\u001b[0;32m    613\u001b[0m     \u001b[1;32mif\u001b[0m \u001b[0mchunksize\u001b[0m \u001b[1;32mor\u001b[0m \u001b[0miterator\u001b[0m\u001b[1;33m:\u001b[0m\u001b[1;33m\u001b[0m\u001b[1;33m\u001b[0m\u001b[0m\n",
      "\u001b[1;32me:\\Anacondo 3\\lib\\site-packages\\pandas\\io\\parsers\\readers.py\u001b[0m in \u001b[0;36m__init__\u001b[1;34m(self, f, engine, **kwds)\u001b[0m\n\u001b[0;32m   1446\u001b[0m \u001b[1;33m\u001b[0m\u001b[0m\n\u001b[0;32m   1447\u001b[0m         \u001b[0mself\u001b[0m\u001b[1;33m.\u001b[0m\u001b[0mhandles\u001b[0m\u001b[1;33m:\u001b[0m \u001b[0mIOHandles\u001b[0m \u001b[1;33m|\u001b[0m \u001b[1;32mNone\u001b[0m \u001b[1;33m=\u001b[0m \u001b[1;32mNone\u001b[0m\u001b[1;33m\u001b[0m\u001b[1;33m\u001b[0m\u001b[0m\n\u001b[1;32m-> 1448\u001b[1;33m         \u001b[0mself\u001b[0m\u001b[1;33m.\u001b[0m\u001b[0m_engine\u001b[0m \u001b[1;33m=\u001b[0m \u001b[0mself\u001b[0m\u001b[1;33m.\u001b[0m\u001b[0m_make_engine\u001b[0m\u001b[1;33m(\u001b[0m\u001b[0mf\u001b[0m\u001b[1;33m,\u001b[0m \u001b[0mself\u001b[0m\u001b[1;33m.\u001b[0m\u001b[0mengine\u001b[0m\u001b[1;33m)\u001b[0m\u001b[1;33m\u001b[0m\u001b[1;33m\u001b[0m\u001b[0m\n\u001b[0m\u001b[0;32m   1449\u001b[0m \u001b[1;33m\u001b[0m\u001b[0m\n\u001b[0;32m   1450\u001b[0m     \u001b[1;32mdef\u001b[0m \u001b[0mclose\u001b[0m\u001b[1;33m(\u001b[0m\u001b[0mself\u001b[0m\u001b[1;33m)\u001b[0m \u001b[1;33m->\u001b[0m \u001b[1;32mNone\u001b[0m\u001b[1;33m:\u001b[0m\u001b[1;33m\u001b[0m\u001b[1;33m\u001b[0m\u001b[0m\n",
      "\u001b[1;32me:\\Anacondo 3\\lib\\site-packages\\pandas\\io\\parsers\\readers.py\u001b[0m in \u001b[0;36m_make_engine\u001b[1;34m(self, f, engine)\u001b[0m\n\u001b[0;32m   1703\u001b[0m                 \u001b[1;32mif\u001b[0m \u001b[1;34m\"b\"\u001b[0m \u001b[1;32mnot\u001b[0m \u001b[1;32min\u001b[0m \u001b[0mmode\u001b[0m\u001b[1;33m:\u001b[0m\u001b[1;33m\u001b[0m\u001b[1;33m\u001b[0m\u001b[0m\n\u001b[0;32m   1704\u001b[0m                     \u001b[0mmode\u001b[0m \u001b[1;33m+=\u001b[0m \u001b[1;34m\"b\"\u001b[0m\u001b[1;33m\u001b[0m\u001b[1;33m\u001b[0m\u001b[0m\n\u001b[1;32m-> 1705\u001b[1;33m             self.handles = get_handle(\n\u001b[0m\u001b[0;32m   1706\u001b[0m                 \u001b[0mf\u001b[0m\u001b[1;33m,\u001b[0m\u001b[1;33m\u001b[0m\u001b[1;33m\u001b[0m\u001b[0m\n\u001b[0;32m   1707\u001b[0m                 \u001b[0mmode\u001b[0m\u001b[1;33m,\u001b[0m\u001b[1;33m\u001b[0m\u001b[1;33m\u001b[0m\u001b[0m\n",
      "\u001b[1;32me:\\Anacondo 3\\lib\\site-packages\\pandas\\io\\common.py\u001b[0m in \u001b[0;36mget_handle\u001b[1;34m(path_or_buf, mode, encoding, compression, memory_map, is_text, errors, storage_options)\u001b[0m\n\u001b[0;32m    861\u001b[0m         \u001b[1;32mif\u001b[0m \u001b[0mioargs\u001b[0m\u001b[1;33m.\u001b[0m\u001b[0mencoding\u001b[0m \u001b[1;32mand\u001b[0m \u001b[1;34m\"b\"\u001b[0m \u001b[1;32mnot\u001b[0m \u001b[1;32min\u001b[0m \u001b[0mioargs\u001b[0m\u001b[1;33m.\u001b[0m\u001b[0mmode\u001b[0m\u001b[1;33m:\u001b[0m\u001b[1;33m\u001b[0m\u001b[1;33m\u001b[0m\u001b[0m\n\u001b[0;32m    862\u001b[0m             \u001b[1;31m# Encoding\u001b[0m\u001b[1;33m\u001b[0m\u001b[1;33m\u001b[0m\u001b[0m\n\u001b[1;32m--> 863\u001b[1;33m             handle = open(\n\u001b[0m\u001b[0;32m    864\u001b[0m                 \u001b[0mhandle\u001b[0m\u001b[1;33m,\u001b[0m\u001b[1;33m\u001b[0m\u001b[1;33m\u001b[0m\u001b[0m\n\u001b[0;32m    865\u001b[0m                 \u001b[0mioargs\u001b[0m\u001b[1;33m.\u001b[0m\u001b[0mmode\u001b[0m\u001b[1;33m,\u001b[0m\u001b[1;33m\u001b[0m\u001b[1;33m\u001b[0m\u001b[0m\n",
      "\u001b[1;31mFileNotFoundError\u001b[0m: [Errno 2] No such file or directory: 'E:/thesis/RAG4PublicSector/data/data_gen_from_pipeline/pipeline_index_10_50/final_dataframe_10_50.csv'"
     ]
    }
   ],
   "source": [
    "import pandas as pd\n",
    "pd.set_option(\"max_colwidth\", None)\n",
    "corpus_df = pd.read_csv('E:/thesis/RAG4PublicSector/data/data_gen_from_pipeline/pipeline_index_10_50/final_dataframe_10_50.csv')   \n",
    "corpus_df[['Question','Answers']]"
   ]
  },
  {
   "cell_type": "code",
   "execution_count": 15,
   "metadata": {},
   "outputs": [
    {
     "data": {
      "text/plain": [
       "179"
      ]
     },
     "execution_count": 15,
     "metadata": {},
     "output_type": "execute_result"
    }
   ],
   "source": [
    "len(corpus_df)"
   ]
  },
  {
   "cell_type": "code",
   "execution_count": 6,
   "metadata": {},
   "outputs": [
    {
     "ename": "KeyError",
     "evalue": "'query'",
     "output_type": "error",
     "traceback": [
      "\u001b[1;31m---------------------------------------------------------------------------\u001b[0m",
      "\u001b[1;31mKeyError\u001b[0m                                  Traceback (most recent call last)",
      "\u001b[1;32me:\\Anacondo 3\\lib\\site-packages\\pandas\\core\\indexes\\base.py\u001b[0m in \u001b[0;36mget_loc\u001b[1;34m(self, key)\u001b[0m\n\u001b[0;32m   3789\u001b[0m         \u001b[1;32mtry\u001b[0m\u001b[1;33m:\u001b[0m\u001b[1;33m\u001b[0m\u001b[1;33m\u001b[0m\u001b[0m\n\u001b[1;32m-> 3790\u001b[1;33m             \u001b[1;32mreturn\u001b[0m \u001b[0mself\u001b[0m\u001b[1;33m.\u001b[0m\u001b[0m_engine\u001b[0m\u001b[1;33m.\u001b[0m\u001b[0mget_loc\u001b[0m\u001b[1;33m(\u001b[0m\u001b[0mcasted_key\u001b[0m\u001b[1;33m)\u001b[0m\u001b[1;33m\u001b[0m\u001b[1;33m\u001b[0m\u001b[0m\n\u001b[0m\u001b[0;32m   3791\u001b[0m         \u001b[1;32mexcept\u001b[0m \u001b[0mKeyError\u001b[0m \u001b[1;32mas\u001b[0m \u001b[0merr\u001b[0m\u001b[1;33m:\u001b[0m\u001b[1;33m\u001b[0m\u001b[1;33m\u001b[0m\u001b[0m\n",
      "\u001b[1;32mindex.pyx\u001b[0m in \u001b[0;36mpandas._libs.index.IndexEngine.get_loc\u001b[1;34m()\u001b[0m\n",
      "\u001b[1;32mindex.pyx\u001b[0m in \u001b[0;36mpandas._libs.index.IndexEngine.get_loc\u001b[1;34m()\u001b[0m\n",
      "\u001b[1;32mpandas\\_libs\\hashtable_class_helper.pxi\u001b[0m in \u001b[0;36mpandas._libs.hashtable.PyObjectHashTable.get_item\u001b[1;34m()\u001b[0m\n",
      "\u001b[1;32mpandas\\_libs\\hashtable_class_helper.pxi\u001b[0m in \u001b[0;36mpandas._libs.hashtable.PyObjectHashTable.get_item\u001b[1;34m()\u001b[0m\n",
      "\u001b[1;31mKeyError\u001b[0m: 'query'",
      "\nThe above exception was the direct cause of the following exception:\n",
      "\u001b[1;31mKeyError\u001b[0m                                  Traceback (most recent call last)",
      "\u001b[1;32m~\\AppData\\Local\\Temp\\ipykernel_24224\\4227067604.py\u001b[0m in \u001b[0;36m<module>\u001b[1;34m\u001b[0m\n\u001b[1;32m----> 1\u001b[1;33m \u001b[0mcorpus_df\u001b[0m\u001b[1;33m[\u001b[0m\u001b[1;34m'query'\u001b[0m\u001b[1;33m]\u001b[0m\u001b[1;33m[\u001b[0m\u001b[1;36m8\u001b[0m\u001b[1;33m]\u001b[0m\u001b[1;33m\u001b[0m\u001b[1;33m\u001b[0m\u001b[0m\n\u001b[0m",
      "\u001b[1;32me:\\Anacondo 3\\lib\\site-packages\\pandas\\core\\frame.py\u001b[0m in \u001b[0;36m__getitem__\u001b[1;34m(self, key)\u001b[0m\n\u001b[0;32m   3891\u001b[0m             \u001b[1;32mif\u001b[0m \u001b[0mself\u001b[0m\u001b[1;33m.\u001b[0m\u001b[0mcolumns\u001b[0m\u001b[1;33m.\u001b[0m\u001b[0mnlevels\u001b[0m \u001b[1;33m>\u001b[0m \u001b[1;36m1\u001b[0m\u001b[1;33m:\u001b[0m\u001b[1;33m\u001b[0m\u001b[1;33m\u001b[0m\u001b[0m\n\u001b[0;32m   3892\u001b[0m                 \u001b[1;32mreturn\u001b[0m \u001b[0mself\u001b[0m\u001b[1;33m.\u001b[0m\u001b[0m_getitem_multilevel\u001b[0m\u001b[1;33m(\u001b[0m\u001b[0mkey\u001b[0m\u001b[1;33m)\u001b[0m\u001b[1;33m\u001b[0m\u001b[1;33m\u001b[0m\u001b[0m\n\u001b[1;32m-> 3893\u001b[1;33m             \u001b[0mindexer\u001b[0m \u001b[1;33m=\u001b[0m \u001b[0mself\u001b[0m\u001b[1;33m.\u001b[0m\u001b[0mcolumns\u001b[0m\u001b[1;33m.\u001b[0m\u001b[0mget_loc\u001b[0m\u001b[1;33m(\u001b[0m\u001b[0mkey\u001b[0m\u001b[1;33m)\u001b[0m\u001b[1;33m\u001b[0m\u001b[1;33m\u001b[0m\u001b[0m\n\u001b[0m\u001b[0;32m   3894\u001b[0m             \u001b[1;32mif\u001b[0m \u001b[0mis_integer\u001b[0m\u001b[1;33m(\u001b[0m\u001b[0mindexer\u001b[0m\u001b[1;33m)\u001b[0m\u001b[1;33m:\u001b[0m\u001b[1;33m\u001b[0m\u001b[1;33m\u001b[0m\u001b[0m\n\u001b[0;32m   3895\u001b[0m                 \u001b[0mindexer\u001b[0m \u001b[1;33m=\u001b[0m \u001b[1;33m[\u001b[0m\u001b[0mindexer\u001b[0m\u001b[1;33m]\u001b[0m\u001b[1;33m\u001b[0m\u001b[1;33m\u001b[0m\u001b[0m\n",
      "\u001b[1;32me:\\Anacondo 3\\lib\\site-packages\\pandas\\core\\indexes\\base.py\u001b[0m in \u001b[0;36mget_loc\u001b[1;34m(self, key)\u001b[0m\n\u001b[0;32m   3795\u001b[0m             ):\n\u001b[0;32m   3796\u001b[0m                 \u001b[1;32mraise\u001b[0m \u001b[0mInvalidIndexError\u001b[0m\u001b[1;33m(\u001b[0m\u001b[0mkey\u001b[0m\u001b[1;33m)\u001b[0m\u001b[1;33m\u001b[0m\u001b[1;33m\u001b[0m\u001b[0m\n\u001b[1;32m-> 3797\u001b[1;33m             \u001b[1;32mraise\u001b[0m \u001b[0mKeyError\u001b[0m\u001b[1;33m(\u001b[0m\u001b[0mkey\u001b[0m\u001b[1;33m)\u001b[0m \u001b[1;32mfrom\u001b[0m \u001b[0merr\u001b[0m\u001b[1;33m\u001b[0m\u001b[1;33m\u001b[0m\u001b[0m\n\u001b[0m\u001b[0;32m   3798\u001b[0m         \u001b[1;32mexcept\u001b[0m \u001b[0mTypeError\u001b[0m\u001b[1;33m:\u001b[0m\u001b[1;33m\u001b[0m\u001b[1;33m\u001b[0m\u001b[0m\n\u001b[0;32m   3799\u001b[0m             \u001b[1;31m# If we have a listlike key, _check_indexing_error will raise\u001b[0m\u001b[1;33m\u001b[0m\u001b[1;33m\u001b[0m\u001b[0m\n",
      "\u001b[1;31mKeyError\u001b[0m: 'query'"
     ]
    }
   ],
   "source": [
    "corpus_df['query'][8]"
   ]
  },
  {
   "cell_type": "code",
   "execution_count": 76,
   "metadata": {},
   "outputs": [
    {
     "ename": "FileNotFoundError",
     "evalue": "[Errno 2] No such file or directory: 'E:/thesis/RAG4PublicSector/data/test_pipeline/databricks.parquet'",
     "output_type": "error",
     "traceback": [
      "\u001b[1;31m---------------------------------------------------------------------------\u001b[0m",
      "\u001b[1;31mFileNotFoundError\u001b[0m                         Traceback (most recent call last)",
      "\u001b[1;32m~\\AppData\\Local\\Temp\\ipykernel_26632\\287143081.py\u001b[0m in \u001b[0;36m<module>\u001b[1;34m\u001b[0m\n\u001b[0;32m      1\u001b[0m \u001b[1;32mimport\u001b[0m \u001b[0mpandas\u001b[0m \u001b[1;32mas\u001b[0m \u001b[0mpd\u001b[0m\u001b[1;33m\u001b[0m\u001b[1;33m\u001b[0m\u001b[0m\n\u001b[1;32m----> 2\u001b[1;33m \u001b[0mdf\u001b[0m \u001b[1;33m=\u001b[0m \u001b[0mpd\u001b[0m\u001b[1;33m.\u001b[0m\u001b[0mread_parquet\u001b[0m\u001b[1;33m(\u001b[0m\u001b[1;34m'E:/thesis/RAG4PublicSector/data/test_pipeline/databricks.parquet'\u001b[0m\u001b[1;33m)\u001b[0m\u001b[1;33m\u001b[0m\u001b[1;33m\u001b[0m\u001b[0m\n\u001b[0m\u001b[0;32m      3\u001b[0m \u001b[0mdf\u001b[0m\u001b[1;33m\u001b[0m\u001b[1;33m\u001b[0m\u001b[0m\n",
      "\u001b[1;32me:\\Anacondo 3\\lib\\site-packages\\pandas\\io\\parquet.py\u001b[0m in \u001b[0;36mread_parquet\u001b[1;34m(path, engine, columns, storage_options, use_nullable_dtypes, dtype_backend, filesystem, filters, **kwargs)\u001b[0m\n\u001b[0;32m    668\u001b[0m     \u001b[0mcheck_dtype_backend\u001b[0m\u001b[1;33m(\u001b[0m\u001b[0mdtype_backend\u001b[0m\u001b[1;33m)\u001b[0m\u001b[1;33m\u001b[0m\u001b[1;33m\u001b[0m\u001b[0m\n\u001b[0;32m    669\u001b[0m \u001b[1;33m\u001b[0m\u001b[0m\n\u001b[1;32m--> 670\u001b[1;33m     return impl.read(\n\u001b[0m\u001b[0;32m    671\u001b[0m         \u001b[0mpath\u001b[0m\u001b[1;33m,\u001b[0m\u001b[1;33m\u001b[0m\u001b[1;33m\u001b[0m\u001b[0m\n\u001b[0;32m    672\u001b[0m         \u001b[0mcolumns\u001b[0m\u001b[1;33m=\u001b[0m\u001b[0mcolumns\u001b[0m\u001b[1;33m,\u001b[0m\u001b[1;33m\u001b[0m\u001b[1;33m\u001b[0m\u001b[0m\n",
      "\u001b[1;32me:\\Anacondo 3\\lib\\site-packages\\pandas\\io\\parquet.py\u001b[0m in \u001b[0;36mread\u001b[1;34m(self, path, columns, filters, use_nullable_dtypes, dtype_backend, storage_options, filesystem, **kwargs)\u001b[0m\n\u001b[0;32m    263\u001b[0m             \u001b[0mto_pandas_kwargs\u001b[0m\u001b[1;33m[\u001b[0m\u001b[1;34m\"split_blocks\"\u001b[0m\u001b[1;33m]\u001b[0m \u001b[1;33m=\u001b[0m \u001b[1;32mTrue\u001b[0m  \u001b[1;31m# type: ignore[assignment]\u001b[0m\u001b[1;33m\u001b[0m\u001b[1;33m\u001b[0m\u001b[0m\n\u001b[0;32m    264\u001b[0m \u001b[1;33m\u001b[0m\u001b[0m\n\u001b[1;32m--> 265\u001b[1;33m         path_or_handle, handles, filesystem = _get_path_or_handle(\n\u001b[0m\u001b[0;32m    266\u001b[0m             \u001b[0mpath\u001b[0m\u001b[1;33m,\u001b[0m\u001b[1;33m\u001b[0m\u001b[1;33m\u001b[0m\u001b[0m\n\u001b[0;32m    267\u001b[0m             \u001b[0mfilesystem\u001b[0m\u001b[1;33m,\u001b[0m\u001b[1;33m\u001b[0m\u001b[1;33m\u001b[0m\u001b[0m\n",
      "\u001b[1;32me:\\Anacondo 3\\lib\\site-packages\\pandas\\io\\parquet.py\u001b[0m in \u001b[0;36m_get_path_or_handle\u001b[1;34m(path, fs, storage_options, mode, is_dir)\u001b[0m\n\u001b[0;32m    137\u001b[0m         \u001b[1;31m# fsspec resources can also point to directories\u001b[0m\u001b[1;33m\u001b[0m\u001b[1;33m\u001b[0m\u001b[0m\n\u001b[0;32m    138\u001b[0m         \u001b[1;31m# this branch is used for example when reading from non-fsspec URLs\u001b[0m\u001b[1;33m\u001b[0m\u001b[1;33m\u001b[0m\u001b[0m\n\u001b[1;32m--> 139\u001b[1;33m         handles = get_handle(\n\u001b[0m\u001b[0;32m    140\u001b[0m             \u001b[0mpath_or_handle\u001b[0m\u001b[1;33m,\u001b[0m \u001b[0mmode\u001b[0m\u001b[1;33m,\u001b[0m \u001b[0mis_text\u001b[0m\u001b[1;33m=\u001b[0m\u001b[1;32mFalse\u001b[0m\u001b[1;33m,\u001b[0m \u001b[0mstorage_options\u001b[0m\u001b[1;33m=\u001b[0m\u001b[0mstorage_options\u001b[0m\u001b[1;33m\u001b[0m\u001b[1;33m\u001b[0m\u001b[0m\n\u001b[0;32m    141\u001b[0m         )\n",
      "\u001b[1;32me:\\Anacondo 3\\lib\\site-packages\\pandas\\io\\common.py\u001b[0m in \u001b[0;36mget_handle\u001b[1;34m(path_or_buf, mode, encoding, compression, memory_map, is_text, errors, storage_options)\u001b[0m\n\u001b[0;32m    870\u001b[0m         \u001b[1;32melse\u001b[0m\u001b[1;33m:\u001b[0m\u001b[1;33m\u001b[0m\u001b[1;33m\u001b[0m\u001b[0m\n\u001b[0;32m    871\u001b[0m             \u001b[1;31m# Binary mode\u001b[0m\u001b[1;33m\u001b[0m\u001b[1;33m\u001b[0m\u001b[0m\n\u001b[1;32m--> 872\u001b[1;33m             \u001b[0mhandle\u001b[0m \u001b[1;33m=\u001b[0m \u001b[0mopen\u001b[0m\u001b[1;33m(\u001b[0m\u001b[0mhandle\u001b[0m\u001b[1;33m,\u001b[0m \u001b[0mioargs\u001b[0m\u001b[1;33m.\u001b[0m\u001b[0mmode\u001b[0m\u001b[1;33m)\u001b[0m\u001b[1;33m\u001b[0m\u001b[1;33m\u001b[0m\u001b[0m\n\u001b[0m\u001b[0;32m    873\u001b[0m         \u001b[0mhandles\u001b[0m\u001b[1;33m.\u001b[0m\u001b[0mappend\u001b[0m\u001b[1;33m(\u001b[0m\u001b[0mhandle\u001b[0m\u001b[1;33m)\u001b[0m\u001b[1;33m\u001b[0m\u001b[1;33m\u001b[0m\u001b[0m\n\u001b[0;32m    874\u001b[0m \u001b[1;33m\u001b[0m\u001b[0m\n",
      "\u001b[1;31mFileNotFoundError\u001b[0m: [Errno 2] No such file or directory: 'E:/thesis/RAG4PublicSector/data/test_pipeline/databricks.parquet'"
     ]
    }
   ],
   "source": [
    "import pandas as pd\n",
    "df = pd.read_parquet('E:/thesis/RAG4PublicSector/data/test_pipeline/databricks.parquet')\n",
    "df"
   ]
  },
  {
   "cell_type": "code",
   "execution_count": 2,
   "metadata": {},
   "outputs": [
    {
     "name": "stdout",
     "output_type": "stream",
     "text": [
      "Why did the astronaut bring a ladder to the moon? \n",
      "\n",
      "Because he heard the gravity was low! 🚀  \n",
      "\n"
     ]
    }
   ],
   "source": [
    "llm = ChatOllama(model=\"gemma2\")\n",
    "prompt = ChatPromptTemplate.from_template(\"Tell me a short joke about {topic}\")\n",
    "\n",
    "# using LangChain Expressive Language chain syntax\n",
    "# learn more about the LCEL on\n",
    "# /docs/concepts/#langchain-expression-language-lcel\n",
    "chain = prompt | llm | StrOutputParser()\n",
    "\n",
    "# for brevity, response is printed in terminal\n",
    "# You can use LangServe to deploy your application for\n",
    "# production\n",
    "print(chain.invoke({\"topic\": \"Space travel\"}))"
   ]
  }
 ],
 "metadata": {
  "kernelspec": {
   "display_name": ".venv",
   "language": "python",
   "name": "python3"
  },
  "language_info": {
   "codemirror_mode": {
    "name": "ipython",
    "version": 3
   },
   "file_extension": ".py",
   "mimetype": "text/x-python",
   "name": "python",
   "nbconvert_exporter": "python",
   "pygments_lexer": "ipython3",
   "version": "3.9.18"
  }
 },
 "nbformat": 4,
 "nbformat_minor": 2
}
