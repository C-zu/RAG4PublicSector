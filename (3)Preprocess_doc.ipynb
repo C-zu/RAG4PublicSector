{
 "cells": [
  {
   "cell_type": "code",
   "execution_count": 2,
   "metadata": {
    "id": "QuXUGMrihqF3"
   },
   "outputs": [],
   "source": [
    "import re\n",
    "import os"
   ]
  },
  {
   "cell_type": "code",
   "execution_count": null,
   "metadata": {
    "colab": {
     "base_uri": "https://localhost:8080/"
    },
    "id": "d8AZC2G21g2M",
    "outputId": "a40c8565-705e-4bca-cf70-af0b70a01662"
   },
   "outputs": [
    {
     "name": "stdout",
     "output_type": "stream",
     "text": [
      "Mounted at /content/drive\n"
     ]
    }
   ],
   "source": [
    "from google.colab import drive\n",
    "drive.mount('/content/drive')"
   ]
  },
  {
   "cell_type": "code",
   "execution_count": 3,
   "metadata": {
    "id": "an01G_hIgZ55"
   },
   "outputs": [],
   "source": [
    "# Split the raw text into lines\n",
    "def format_quantity(text):\n",
    "    # Sử dụng regex để tìm số lượng Bản chính và Bản sao\n",
    "    match = re.search(r\"Bản chính:\\s*(\\d+)Bản sao:\\s*(\\d+)\", text)\n",
    "    \n",
    "    if not match:\n",
    "        return text  # Trả về nguyên gốc nếu không khớp mẫu\n",
    "    \n",
    "    num_chinh, num_sao = map(int, match.groups())\n",
    "\n",
    "    result = []\n",
    "    if num_chinh > 0:\n",
    "        result.append(f\"- {num_chinh:02d} Bản chính\")\n",
    "    if num_sao > 0:\n",
    "        result.append(f\"{num_sao:02d} Bản sao\")\n",
    "    \n",
    "    return \", \".join(result)\n",
    "def preprocess_table(text):\n",
    "  lines = text.strip().split('\\n')\n",
    "\n",
    "  # Initialize a list to store the processed lines\n",
    "  processed_lines = []\n",
    "  related_docs = \"\"\n",
    "  # Loop through each line in the raw text\n",
    "  for line in lines[2:]:  # Skip the header lines\n",
    "      # Split the line into columns\n",
    "      columns = line.split('|')\n",
    "      if len(columns) > 3:\n",
    "          document_name = columns[1].strip()\n",
    "          quantity = columns[3].strip()\n",
    "          related_doc = columns[2].strip()\n",
    "          # Combine the document name and quantity\n",
    "          processed_line = f\"{format_quantity(quantity)} {document_name} ({related_doc})\"\n",
    "          # Add the processed line to the list\n",
    "          processed_lines.append(processed_line)\n",
    "\n",
    "  # Join the processed lines into a single string\n",
    "  result = '\\n'.join(processed_lines)\n",
    "\n",
    "  return result"
   ]
  },
  {
   "cell_type": "code",
   "execution_count": 7,
   "metadata": {
    "id": "uFBq9CCghy0r"
   },
   "outputs": [],
   "source": [
    "def preprocess_doc(text):\n",
    "    table_header_pattern = r\"\\| Tên giấy tờ \\| Mẫu đơn, tờ khai \\| Số lượng \\|((?:[^|\\n]*\\|?)+)\"\n",
    "\n",
    "    # Find the table header and extract all subsequent lines until a non-table line is encountered\n",
    "    processed_text = text\n",
    "    match = re.search(table_header_pattern, processed_text)\n",
    "    while match:\n",
    "        table_header = match.group(1).strip()\n",
    "        table_content = \"| Tên giấy tờ | Mẫu đơn, tờ khai | Số lượng |\\n\"\n",
    "        remaining_text = processed_text[match.end():].strip()\n",
    "        lines = remaining_text.splitlines()\n",
    "\n",
    "        for line in lines:\n",
    "            if line.startswith(\"|\"):\n",
    "                table_content += line.strip() + \"\\n\"\n",
    "            else:\n",
    "                table_content = table_content[:-1]\n",
    "                break\n",
    "        new_table_content = preprocess_table(table_content)\n",
    "        table_start = processed_text.find(table_content)  # Find the start position of the matched table\n",
    "        processed_text = processed_text[:table_start] + new_table_content + processed_text[table_start + len(table_content):]\n",
    "        match = re.search(table_header_pattern, processed_text)\n",
    "    return processed_text\n"
   ]
  },
  {
   "cell_type": "code",
   "execution_count": 8,
   "metadata": {
    "id": "AMQVZ72TmQvc"
   },
   "outputs": [],
   "source": [
    "def process_files_in_folder(folder_path):\n",
    "    # Iterate over all files in the folder\n",
    "    for filename in os.listdir(folder_path):\n",
    "        file_path = os.path.join(folder_path, filename)\n",
    "        if os.path.isfile(file_path) and filename.endswith('.txt'):  # Ensure it's a file and ends with .txt\n",
    "            # Read the current file content\n",
    "            with open(file_path, 'r', encoding='utf-8') as file:\n",
    "                file_content = file.read()\n",
    "\n",
    "            # Apply the function ggez to modify the text\n",
    "            modified_content = preprocess_doc(file_content)\n",
    "\n",
    "            # Save the modified content back to the file\n",
    "            with open(file_path, 'w', encoding='utf-8') as file:\n",
    "                file.write(modified_content)"
   ]
  },
  {
   "cell_type": "code",
   "execution_count": 10,
   "metadata": {
    "colab": {
     "base_uri": "https://localhost:8080/",
     "height": 298
    },
    "id": "dzYuXk4Y2X1O",
    "outputId": "7c5cd378-f8a4-42f3-8587-750c7a2f09a9"
   },
   "outputs": [],
   "source": [
    "process_files_in_folder(\"./data/test_txt\")"
   ]
  },
  {
   "cell_type": "code",
   "execution_count": null,
   "metadata": {
    "id": "e2TTitF35LfY"
   },
   "outputs": [],
   "source": []
  }
 ],
 "metadata": {
  "colab": {
   "provenance": []
  },
  "kernelspec": {
   "display_name": ".venv",
   "language": "python",
   "name": "python3"
  },
  "language_info": {
   "codemirror_mode": {
    "name": "ipython",
    "version": 3
   },
   "file_extension": ".py",
   "mimetype": "text/x-python",
   "name": "python",
   "nbconvert_exporter": "python",
   "pygments_lexer": "ipython3",
   "version": "3.9.8"
  }
 },
 "nbformat": 4,
 "nbformat_minor": 0
}
